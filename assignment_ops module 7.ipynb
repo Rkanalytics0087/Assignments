{
  "nbformat": 4,
  "nbformat_minor": 0,
  "metadata": {
    "colab": {
      "provenance": []
    },
    "kernelspec": {
      "name": "python3",
      "display_name": "Python 3"
    },
    "language_info": {
      "name": "python"
    }
  },
  "cells": [
    {
      "cell_type": "markdown",
      "source": [
        "# **Question 1.) *What* are the five key concepts of Object-Oriented Programming (OOP)?**"
      ],
      "metadata": {
        "id": "NGW0lgiH-NH7"
      }
    },
    {
      "cell_type": "markdown",
      "source": [
        "# The five key concepts of Object-Oriented Programming (OOP) are:\n",
        "\n",
        "1. **Abstraction:** Hiding complex implementation details and showing only essential information to the user.  This simplifies interaction with objects.\n",
        "\n",
        "2. **Encapsulation:** Bundling data (attributes) and methods (functions) that operate on that data within a class. This protects data integrity and prevents unintended access or modification.\n",
        "\n",
        "3. **Inheritance:** Creating new classes (derived classes) from existing classes (base classes). The derived class inherits the attributes and methods of the base class, allowing for code reuse and extension.\n",
        "\n",
        "4. **Polymorphism:** The ability of objects of different classes to respond to the same method call in their own specific way.  This allows for flexibility and dynamic behavior.\n",
        "\n",
        "5. **Association:**  Describes a relationship between objects of different classes.  This relationship can be one-to-one, one-to-many, many-to-many, etc., and can be implemented through various mechanisms like member variables or methods."
      ],
      "metadata": {
        "id": "TDu4VP43BPpT"
      }
    },
    {
      "cell_type": "markdown",
      "source": [
        "# **Question 2.) Write a Python class for a `Car` with attributes for `make`, `model`, and `year`. Include a method to display the car's information ?**\n",
        "\n"
      ],
      "metadata": {
        "id": "qOGOMZGJ-WFv"
      }
    },
    {
      "cell_type": "code",
      "source": [
        "class Car:\n",
        "    def __init__(self, make, price, model, year):\n",
        "        self.make = make\n",
        "        self.model = model\n",
        "        self.price = price\n",
        "        self.year = year\n",
        "    def display_info(self):\n",
        "        print(f\"Make: {self.make}\")\n",
        "        print(f\"Model: {self.model}\")\n",
        "        print(f\"price: {self.price}\") # Additional information consider it as an optional data\n",
        "        print(f\"Year: {self.year}\")\n",
        "\n",
        "my_car = Car(\"Tata\",\"250000\", \"Nano\", 2016)\n",
        "my_car.display_info()"
      ],
      "metadata": {
        "colab": {
          "base_uri": "https://localhost:8080/"
        },
        "id": "dvaavy4UBqp3",
        "outputId": "d91bca1d-387e-4ad6-8e0c-fba02d538869"
      },
      "execution_count": null,
      "outputs": [
        {
          "output_type": "stream",
          "name": "stdout",
          "text": [
            "Make: Tata\n",
            "Model: Nano\n",
            "price: 250000\n",
            "Year: 2016\n"
          ]
        }
      ]
    },
    {
      "cell_type": "markdown",
      "source": [
        "# **Question 3.) Explain the difference between instance methods and class methods. Provide an example of each?*italicized text?**"
      ],
      "metadata": {
        "id": "1eJroz1g--Jj"
      }
    },
    {
      "cell_type": "markdown",
      "source": [
        "### 1.) Instance methods operate on specific instances (objects) of a class. They always take `self` (the instance itself) as their first argument.\n",
        "### 2.) Class methods operate on the class itself, not on instances. They use the `@classmethod` decorator and take `cls` (the class) as their first argument."
      ],
      "metadata": {
        "id": "63y_HklUDva3"
      }
    },
    {
      "cell_type": "code",
      "source": [
        "class MyClass:\n",
        "    class_variable = 0  # Class variable\n",
        "\n",
        "    def __init__(self, value):\n",
        "        self.instance_variable = value  # Instance variable\n",
        "\n",
        "    def instance_method(self):\n",
        "        print(\"Instance method called on:\", self.instance_variable)\n",
        "        MyClass.class_variable +=1 # Instance can modify the class variable\n",
        "\n",
        "    @classmethod\n",
        "    def class_method(cls):\n",
        "        print(\"Class method called. Class variable:\", cls.class_variable)\n",
        "        cls.class_variable += 1 # class method modifies class variable\n",
        "\n",
        "\n",
        "# Example usage\n",
        "obj1 = MyClass(10)\n",
        "obj2 = MyClass(20)\n",
        "\n",
        "obj1.instance_method()  # Output: Instance method called on: 10\n",
        "obj2.instance_method() # Output: Instance method called on: 20\n",
        "MyClass.class_method()  # Output: Class method called. Class variable: 2\n",
        "MyClass.class_method() # Output: Class method called. Class variable: 3\n",
        "\n",
        "# Accessing class variable through instances and class\n",
        "print(obj1.class_variable)  # Output: 3\n",
        "print(MyClass.class_variable) # Output: 3\n"
      ],
      "metadata": {
        "colab": {
          "base_uri": "https://localhost:8080/"
        },
        "id": "mKLq0HdlDv2r",
        "outputId": "30633d70-6e73-4bc7-cf1c-4f945e7a575d"
      },
      "execution_count": null,
      "outputs": [
        {
          "output_type": "stream",
          "name": "stdout",
          "text": [
            "Instance method called on: 10\n",
            "Instance method called on: 20\n",
            "Class method called. Class variable: 2\n",
            "Class method called. Class variable: 3\n",
            "4\n",
            "4\n"
          ]
        }
      ]
    },
    {
      "cell_type": "markdown",
      "source": [
        "# **Question 4.) How does Python implement method overloading? Give an example?**"
      ],
      "metadata": {
        "id": "CQ5Hkfxv_Vv5"
      }
    },
    {
      "cell_type": "markdown",
      "source": [
        "#### Python does not directly support method overloading in the same way as some other languages (like Java or C++).In those languages, you can define multiple methods with the same name but different parameters. Python, however, uses a different approach and method overloading can be simulated in Python using default argument values and variable-length argument lists (*args and **kwargs)"
      ],
      "metadata": {
        "id": "2CXQeZaDEaKe"
      }
    },
    {
      "cell_type": "code",
      "source": [
        "\n",
        "class MyClass:\n",
        "    def my_method(self, arg1=None, arg2=None):\n",
        "        if arg1 is not None and arg2 is not None:\n",
        "            print(\"Method called with two arguments:\", arg1, arg2)\n",
        "        elif arg1 is not None:\n",
        "            print(\"Method called with one argument:\", arg1)\n",
        "        else:\n",
        "            print(\"Method called with no arguments\")\n",
        "\n",
        "\n",
        "# Example usage\n",
        "obj = MyClass()\n",
        "obj.my_method()  # Method called with no arguments\n",
        "obj.my_method(10) # Method called with one argument: 10\n",
        "obj.my_method(10, 20)  # Method called with two arguments: 10 20\n",
        "\n",
        "\n",
        "# Another method to simulate overloading:\n",
        "class OverloadingDemo:\n",
        "    def product(self, a, b):\n",
        "        print(a * b)\n",
        "\n",
        "    def product(self, a, b, c):\n",
        "        print(a * b * c)\n",
        "\n",
        "# In this case, only the last defined function is considered\n",
        "obj = OverloadingDemo()\n",
        "# obj.product(4, 5) #This will show error as product() missing 1 required positional argument: 'c'\n",
        "obj.product(4, 5, 5) #This will print 100\n",
        "\n",
        "# Using *args and **kwargs, you can create a method that accepts a variable number of arguments and checks the type of arguments passed.\n",
        "class Example:\n",
        "    def add(self,*args):\n",
        "        if len(args) == 2:\n",
        "            return args[0] + args[1]\n",
        "        elif len(args) == 3:\n",
        "            return args[0] + args[1] + args[2]\n",
        "\n",
        "obj = Example()\n",
        "print(obj.add(4, 5))  # Output: 9\n",
        "print(obj.add(4, 5, 6))  # Output: 15"
      ],
      "metadata": {
        "colab": {
          "base_uri": "https://localhost:8080/"
        },
        "id": "SsIyMWoM-rEM",
        "outputId": "3f7aab61-f69e-4c9d-a47b-e001bdf16f16"
      },
      "execution_count": null,
      "outputs": [
        {
          "output_type": "stream",
          "name": "stdout",
          "text": [
            "Method called with no arguments\n",
            "Method called with one argument: 10\n",
            "Method called with two arguments: 10 20\n",
            "100\n",
            "9\n",
            "15\n"
          ]
        }
      ]
    },
    {
      "cell_type": "markdown",
      "source": [
        "# **Question 5.) What are the three types of access modifiers in Python? How are they denoted?**"
      ],
      "metadata": {
        "id": "czt7lrNf_lj8"
      }
    },
    {
      "cell_type": "markdown",
      "source": [
        "### Python does not have built-in keywords like `public`, `private`, or `protected` to enforce strict access modifiers as seen in languages like Java or C++.  However, naming conventions are used to indicate the intended level of access for attributes and methods:\n",
        "\n",
        "#### 1. Public\n",
        "Denoted by: No underscore or single underscore (_). Description: Public members are accessible from anywhere inside or outside the class.\n",
        "\n",
        "#### 2. Protected\n",
        "Denoted by: A single underscore (_). Description: Protected members should not be accessed outside the class or its subclasses. However, this is more of a convention than an enforced restriction in Python.\n",
        "\n",
        "#### 3. Private\n",
        "Denoted by: Double underscores (__). Description: Private members are only accessible within the class that defines them. Python performs name mangling to make these members less accessible from outside the class.\n"
      ],
      "metadata": {
        "id": "IInOGW-lGFSX"
      }
    },
    {
      "cell_type": "code",
      "source": [
        "\n",
        "## PUBLIC\n",
        "class MyClass:\n",
        "    def __init__(self, value):\n",
        "        self.value = value  # Public attribute\n",
        "\n",
        "    def public_method(self):\n",
        "        return self.value  # Public method\n",
        "\n",
        "obj = MyClass(10)\n",
        "print(obj.value)  # Accessing public attribute\n",
        "print(obj.public_method())  # Accessing public method\n"
      ],
      "metadata": {
        "id": "QgbF-Eq6Hw1j",
        "colab": {
          "base_uri": "https://localhost:8080/"
        },
        "outputId": "4a311345-8dde-42fd-e0e5-1a164b1a1818"
      },
      "execution_count": null,
      "outputs": [
        {
          "output_type": "stream",
          "name": "stdout",
          "text": [
            "10\n",
            "10\n"
          ]
        }
      ]
    },
    {
      "cell_type": "code",
      "source": [
        "## Protected\n",
        "class MyClass:\n",
        "    def __init__(self, value):\n",
        "        self._value = value  # Protected attribute\n",
        "\n",
        "    def _protected_method(self):\n",
        "        return self._value  # Protected method\n",
        "\n",
        "class SubClass(MyClass):\n",
        "    def access_protected(self):\n",
        "        return self._protected_method()\n",
        "\n",
        "obj = SubClass(10)\n",
        "print(obj.access_protected())  # Accessing protected method through subclass\n"
      ],
      "metadata": {
        "colab": {
          "base_uri": "https://localhost:8080/"
        },
        "id": "16g3xMeFPlZO",
        "outputId": "49ab2ab2-ae54-4509-a39a-913b71603a90"
      },
      "execution_count": null,
      "outputs": [
        {
          "output_type": "stream",
          "name": "stdout",
          "text": [
            "10\n"
          ]
        }
      ]
    },
    {
      "cell_type": "code",
      "source": [
        "## Private\n",
        "class MyClass:\n",
        "    def __init__(self, value):\n",
        "        self.__value = value  # Private attribute\n",
        "\n",
        "    def __private_method(self):\n",
        "        return self.__value  # Private method\n",
        "\n",
        "    def access_private(self):\n",
        "        return self.__private_method()  # Method to access private method\n",
        "\n",
        "obj = MyClass(10)\n",
        "# print(obj.__value)  # This will raise an AttributeError\n",
        "print(obj.access_private())  # Accessing private method through a public method\n"
      ],
      "metadata": {
        "colab": {
          "base_uri": "https://localhost:8080/"
        },
        "id": "V7s_P_HMPuzj",
        "outputId": "45773af2-4122-4dc4-9eba-4ee6b2eaf298"
      },
      "execution_count": null,
      "outputs": [
        {
          "output_type": "stream",
          "name": "stdout",
          "text": [
            "10\n"
          ]
        }
      ]
    },
    {
      "cell_type": "markdown",
      "source": [
        "**Important Considerations:**\n",
        "\n",
        "* **Convention over Enforcement:**  Python relies on naming conventions rather than strict enforcement.  You can technically access protected and private members from outside the class, but you should avoid doing so.\n",
        "* **Name Mangling:**  The name mangling applied to private members (`__private_attribute`) means that they can be accessed using `_ClassName__private_attribute` (e.g., `_MyClass__private_attribute`), but this is discouraged.\n",
        "* **Subclasses:**  Protected members (`_protected_attribute`) are accessible from subclasses. Private members (`__private_attribute`) are not directly accessible from subclasses due to name mangling.\n"
      ],
      "metadata": {
        "id": "wbFuJfjyF-ti"
      }
    },
    {
      "cell_type": "markdown",
      "source": [
        "# **Question 6.) Describe the five types of inheritance in Python. Provide a simple example of multiple inheritance?**"
      ],
      "metadata": {
        "id": "LzmzizcS_tbl"
      }
    },
    {
      "cell_type": "markdown",
      "source": [
        "### 1. Single Inheritance: A derived class inherits from a single base class.\n",
        "### 2. Multiple Inheritance: A derived class inherits from multiple base classes.\n",
        "### 3. Multilevel Inheritance: A derived class inherits from a base class, which itself inherits from another base class.\n",
        "### 4. Hierarchical Inheritance: Multiple derived classes inherit from a single base class.\n",
        "### 5. Hybrid Inheritance: A combination of any two or more of the above types of inheritance."
      ],
      "metadata": {
        "id": "lAMhUxkBINo2"
      }
    },
    {
      "cell_type": "code",
      "source": [
        "# Single\n",
        "class Parent:\n",
        "    def func1(self):\n",
        "        print(\"This is function 1.\")\n",
        "\n",
        "class Child(Parent):\n",
        "    def func2(self):\n",
        "        print(\"This is function 2.\")\n",
        "\n",
        "\n"
      ],
      "metadata": {
        "id": "R3Sz1z8n_1h_"
      },
      "execution_count": null,
      "outputs": []
    },
    {
      "cell_type": "code",
      "source": [
        "# multiple Inheritance\n",
        "class Father:\n",
        "    def skill1(self):\n",
        "        print(\"Skill from Father.\")\n",
        "\n",
        "class Mother:\n",
        "    def skill2(self):\n",
        "        print(\"Skill from Mother.\")\n",
        "\n",
        "class Child(Father, Mother):\n",
        "    def skill3(self):\n",
        "        print(\"Skill from Child.\")\n",
        "\n",
        "# Create an instance of Child\n",
        "child = Child()\n",
        "child.skill1()  # Output: Skill from Father.\n",
        "child.skill2()  # Output: Skill from Mother.\n",
        "child.skill3()  # Output: Skill from Child."
      ],
      "metadata": {
        "colab": {
          "base_uri": "https://localhost:8080/"
        },
        "id": "Nc34m3pGQSyp",
        "outputId": "0186898f-5800-4e21-d2b7-6c887208d372"
      },
      "execution_count": null,
      "outputs": [
        {
          "output_type": "stream",
          "name": "stdout",
          "text": [
            "Skill from Father.\n",
            "Skill from Mother.\n",
            "Skill from Child.\n"
          ]
        }
      ]
    },
    {
      "cell_type": "code",
      "source": [
        " # Multilevel Inheritance:\n",
        " class Grandparent:\n",
        "    def func1(self):\n",
        "        print(\"This is function 1.\")\n",
        "\n",
        "class Parent(Grandparent):\n",
        "    def func2(self):\n",
        "        print(\"This is function 2.\")\n",
        "\n",
        "class Child(Parent):\n",
        "    def func3(self):\n",
        "        print(\"This is function 3.\")\n"
      ],
      "metadata": {
        "id": "BTl9jjSYQWGm"
      },
      "execution_count": null,
      "outputs": []
    },
    {
      "cell_type": "code",
      "source": [
        "# Hierarchical Inheritance\n",
        "class Parent:\n",
        "    def func1(self):\n",
        "        print(\"This is function 1.\")\n",
        "\n",
        "class Child1(Parent):\n",
        "    def func2(self):\n",
        "        print(\"This is function 2 from Child 1.\")\n",
        "\n",
        "class Child2(Parent):\n",
        "    def func3(self):\n",
        "        print(\"This is function 3 from Child 2.\")\n"
      ],
      "metadata": {
        "id": "h_hFtlvJQiA_"
      },
      "execution_count": null,
      "outputs": []
    },
    {
      "cell_type": "code",
      "source": [
        "# hybrid inheritance\n",
        "class Grandparent:\n",
        "    def func1(self):\n",
        "        print(\"This is function 1.\")\n",
        "\n",
        "class Parent1(Grandparent):\n",
        "    def func2(self):\n",
        "        print(\"This is function 2 from Parent 1.\")\n",
        "\n",
        "class Parent2(Grandparent):\n",
        "    def func3(self):\n",
        "        print(\"This is function 3 from Parent 2.\")\n",
        "\n",
        "class Child(Parent1, Parent2):\n",
        "    def func4(self):\n",
        "        print(\"This is function 4 from Child.\")\n"
      ],
      "metadata": {
        "id": "zU1kIh6kQps3"
      },
      "execution_count": null,
      "outputs": []
    },
    {
      "cell_type": "markdown",
      "source": [
        "# **Question 7.) What is the Method Resolution Order (MRO) in Python? How can you retrieve it programmatically?**"
      ],
      "metadata": {
        "id": "qLnfHXOgAZWX"
      }
    },
    {
      "cell_type": "markdown",
      "source": [
        "### Method Resolution Order (MRO)\n",
        "Python is the order in which Python looks for a method in a hierarchy of classes. It's particularly relevant in the context of multiple inheritance, where a class is derived from more than one parent class. MRO ensures a predictable way to find which method to call in such scenarios.\n",
        "\n",
        "### Points of MRO:\n",
        "Linearization: MRO ensures that each method is called in a linear order, respecting the order of inheritance.\n",
        "\n",
        "### C3 Linearization:\n",
        "Python uses C3 Linearization (also known as C3 superclass linearization) to compute the MRO. This is a complex algorithm that ensures consistency and respects the hierarchy order.\n",
        "\n",
        "### Consistency:\n",
        "It ensures that the order of method resolution respects the inheritance hierarchy.\n",
        "\n",
        "\n"
      ],
      "metadata": {
        "id": "oZjKG1OOJPk-"
      }
    },
    {
      "cell_type": "code",
      "source": [
        "class A:\n",
        "    def process(self):\n",
        "        print(\"Process from A\")\n",
        "\n",
        "class B(A):\n",
        "    def process(self):\n",
        "        print(\"Process from B\")\n",
        "\n",
        "class C(A):\n",
        "    def process(self):\n",
        "        print(\"Process from C\")\n",
        "\n",
        "class D(B, C):\n",
        "    pass\n",
        "\n",
        "d = D()\n",
        "d.process()\n"
      ],
      "metadata": {
        "id": "7iIhrNIDApOo",
        "colab": {
          "base_uri": "https://localhost:8080/"
        },
        "outputId": "a98975c7-b476-4a5f-baef-16e6a9082988"
      },
      "execution_count": null,
      "outputs": [
        {
          "output_type": "stream",
          "name": "stdout",
          "text": [
            "Process from B\n"
          ]
        }
      ]
    },
    {
      "cell_type": "markdown",
      "source": [
        "MRO Explanation:\n",
        "When d.process() is called, Python determines the order in which it looks for the process method.\n",
        "\n",
        "The MRO for class D in this case would be [D, B, C, A].\n",
        "\n",
        "Retrieving MRO Programmatically:\n",
        "You can retrieve the MRO using the __mro__ attribute or the mro() method.\n",
        "\n",
        "Using __mro__ Attribute:"
      ],
      "metadata": {
        "id": "uwJ-Il2sRckr"
      }
    },
    {
      "cell_type": "code",
      "source": [
        "print(D.__mro__)\n"
      ],
      "metadata": {
        "colab": {
          "base_uri": "https://localhost:8080/"
        },
        "id": "FQdcVsaSRjSj",
        "outputId": "2f158daf-4b2a-4831-b041-a0331c6f9d0c"
      },
      "execution_count": null,
      "outputs": [
        {
          "output_type": "stream",
          "name": "stdout",
          "text": [
            "(<class '__main__.D'>, <class '__main__.B'>, <class '__main__.C'>, <class '__main__.A'>, <class 'object'>)\n"
          ]
        }
      ]
    },
    {
      "cell_type": "code",
      "source": [
        "#MRO Method\n",
        "\n",
        "print(D.mro())\n"
      ],
      "metadata": {
        "colab": {
          "base_uri": "https://localhost:8080/"
        },
        "id": "lusyme48RpTY",
        "outputId": "c774ff6d-6bc8-47e9-c7b6-e3f6d899440a"
      },
      "execution_count": null,
      "outputs": [
        {
          "output_type": "stream",
          "name": "stdout",
          "text": [
            "[<class '__main__.D'>, <class '__main__.B'>, <class '__main__.C'>, <class '__main__.A'>, <class 'object'>]\n"
          ]
        }
      ]
    },
    {
      "cell_type": "markdown",
      "source": [
        "# **Question 8.) Create an abstract base class Shape with an abstract method area(). Then create two subclasses Circle and Rectangle that implement the area() method?**"
      ],
      "metadata": {
        "id": "9wr2Gt5lAanC"
      }
    },
    {
      "cell_type": "markdown",
      "source": [
        "##Step-by-Step:\n",
        "####1. Import the abc module\n",
        "First, import the abc module to use abstract base classes and methods."
      ],
      "metadata": {
        "id": "VqQH2PIGAo0W"
      }
    },
    {
      "cell_type": "code",
      "source": [
        "from abc import ABC, abstractmethod\n"
      ],
      "metadata": {
        "id": "s2V4r_FlJ3xt"
      },
      "execution_count": null,
      "outputs": []
    },
    {
      "cell_type": "markdown",
      "source": [
        "### 2. Create the Shape Abstract Base Class\n",
        "Define the abstract base class Shape with an abstract method area()."
      ],
      "metadata": {
        "id": "LjwEovy-SYmr"
      }
    },
    {
      "cell_type": "code",
      "source": [
        "class Shape(ABC):\n",
        "    @abstractmethod\n",
        "    def area(self):\n",
        "        pass\n"
      ],
      "metadata": {
        "id": "W7PnCg_gSUpP"
      },
      "execution_count": null,
      "outputs": []
    },
    {
      "cell_type": "markdown",
      "source": [
        "### 3. Implement the Circle Subclass\n",
        "Define the Circle class that inherits from Shape and implements the area() method."
      ],
      "metadata": {
        "id": "2Kkmn2FoSkKq"
      }
    },
    {
      "cell_type": "code",
      "source": [
        "import math\n",
        "\n",
        "class Circle(Shape):\n",
        "    def __init__(self, radius):\n",
        "        self.radius = radius\n",
        "\n",
        "    def area(self):\n",
        "        return math.pi * (self.radius ** 2)\n"
      ],
      "metadata": {
        "id": "dM3aDzBzSe_E"
      },
      "execution_count": null,
      "outputs": []
    },
    {
      "cell_type": "markdown",
      "source": [
        "### 4. Implement the Rectangle Subclass\n",
        "Define the Rectangle class that inherits from Shape and implements the area() method."
      ],
      "metadata": {
        "id": "9sNmeI6WSs_9"
      }
    },
    {
      "cell_type": "code",
      "source": [
        "class Rectangle(Shape):\n",
        "    def __init__(self, width, height):\n",
        "        self.width = width\n",
        "        self.height = height\n",
        "\n",
        "    def area(self):\n",
        "        return self.width * self.height\n"
      ],
      "metadata": {
        "id": "mP8t7o4ySoU_"
      },
      "execution_count": null,
      "outputs": []
    },
    {
      "cell_type": "markdown",
      "source": [
        "### 5. Create Instances and Test\n",
        "Create instances of Circle and Rectangle, and call their area() methods."
      ],
      "metadata": {
        "id": "47uOCGkpS2gw"
      }
    },
    {
      "cell_type": "code",
      "source": [],
      "metadata": {
        "id": "YQneRi7AS6cV"
      },
      "execution_count": null,
      "outputs": []
    },
    {
      "cell_type": "code",
      "source": [
        "# Create a Circle and a Rectangle\n",
        "circle = Circle(5)\n",
        "rectangle = Rectangle(4, 6)\n",
        "\n",
        "# Print their areas\n",
        "print(f\"Circle Area: {circle.area()}\")\n",
        "print(f\"Rectangle Area: {rectangle.area()}\")\n"
      ],
      "metadata": {
        "colab": {
          "base_uri": "https://localhost:8080/"
        },
        "id": "AK_itCFQSxiv",
        "outputId": "c09b8541-1397-430e-9eb6-21ca281f3936"
      },
      "execution_count": null,
      "outputs": [
        {
          "output_type": "stream",
          "name": "stdout",
          "text": [
            "Circle Area: 78.53981633974483\n",
            "Rectangle Area: 24\n"
          ]
        }
      ]
    },
    {
      "cell_type": "markdown",
      "source": [
        "# **Question 9.Demonstrate polymorphism by creating a function that can work with different shape objects to calculate and print their areas?**"
      ],
      "metadata": {
        "id": "vMv7DAMiW9DM"
      }
    },
    {
      "cell_type": "code",
      "source": [
        "Demonstrate polymorphism by creating a function that can work with different shape objects to calculate\n",
        "\n",
        "import math\n",
        "\n",
        "class Shape:\n",
        "    def area(self):\n",
        "        pass\n",
        "\n",
        "class Circle(Shape):\n",
        "    def __init__(self, radius):\n",
        "        self.radius = radius\n",
        "\n",
        "    def area(self):\n",
        "        return math.pi * self.radius**2\n",
        "\n",
        "class Rectangle(Shape):\n",
        "    def __init__(self, width, height):\n",
        "        self.width = width\n",
        "        self.height = height\n",
        "\n",
        "    def area(self):\n",
        "        return self.width * self.height\n",
        "\n",
        "def calculate_area(shape):\n",
        "  return shape.area()\n",
        "\n",
        "# Example usage\n",
        "circle = Circle(5)\n",
        "rectangle = Rectangle(4, 6)\n",
        "\n",
        "print(f\"Circle Area: {calculate_area(circle)}\")\n",
        "print(f\"Rectangle Area: {calculate_area(rectangle)}\")"
      ],
      "metadata": {
        "colab": {
          "base_uri": "https://localhost:8080/",
          "height": 106
        },
        "id": "YzSQRrQqW8wO",
        "outputId": "54e841e3-48b4-400e-b6b0-129e663e71d4"
      },
      "execution_count": 26,
      "outputs": [
        {
          "output_type": "error",
          "ename": "SyntaxError",
          "evalue": "invalid syntax (<ipython-input-26-2090e1eea929>, line 1)",
          "traceback": [
            "\u001b[0;36m  File \u001b[0;32m\"<ipython-input-26-2090e1eea929>\"\u001b[0;36m, line \u001b[0;32m1\u001b[0m\n\u001b[0;31m    Demonstrate polymorphism by creating a function that can work with different shape objects to calculate\u001b[0m\n\u001b[0m                ^\u001b[0m\n\u001b[0;31mSyntaxError\u001b[0m\u001b[0;31m:\u001b[0m invalid syntax\n"
          ]
        }
      ]
    },
    {
      "cell_type": "markdown",
      "source": [
        "# **Question10.Implement encapsulation in a BankAccount class with private attributes for 'balance and account_number. Include methods for deposit, withdrawal, and balance inquiry?**"
      ],
      "metadata": {
        "id": "Akt4VSJWXKJR"
      }
    },
    {
      "cell_type": "code",
      "source": [
        "#: Implement encapsulation in a BankAccount class with private attributes for 'balance and account_number. Include methods for deposit, withdrawal, and balance inquiry.\n",
        "\n",
        "class BankAccount:\n",
        "    def __init__(self, account_number, initial_balance):\n",
        "        self.__account_number = account_number  # Private attribute\n",
        "        self.__balance = initial_balance      # Private attribute\n",
        "\n",
        "    def deposit(self, amount):\n",
        "        if amount > 0:\n",
        "            self.__balance += amount\n",
        "            print(f\"Deposited ${amount}. New balance: ${self.__balance}\")\n",
        "        else:\n",
        "            print(\"Invalid deposit amount.\")\n",
        "\n",
        "    def withdraw(self, amount):\n",
        "        if 0 < amount <= self.__balance:\n",
        "            self.__balance -= amount\n",
        "            print(f\"Withdrew ${amount}. New balance: ${self.__balance}\")\n",
        "        else:9\n",
        "             print(\"Insufficient funds or invalid withdrawal amount.\")\n",
        "\n",
        "    def get_balance(self):\n",
        "        print(f\"Account balance: ${self.__balance}\")\n",
        "\n",
        "# Example usage\n",
        "account = BankAccount(\"1234567890\", 1000)\n",
        "account.deposit(500)\n",
        "account.withdraw(200)\n",
        "account.get_balance()\n",
        "account.withdraw(2000) #test invalid withdrawl\n",
        "account.deposit(-100) # test invalid deposit"
      ],
      "metadata": {
        "colab": {
          "base_uri": "https://localhost:8080/",
          "height": 106
        },
        "id": "QlW-WSq2XEpv",
        "outputId": "ccf0de7d-1ce5-4313-8f89-43b4c8919b3f"
      },
      "execution_count": 29,
      "outputs": [
        {
          "output_type": "error",
          "ename": "IndentationError",
          "evalue": "unexpected indent (<ipython-input-29-77d60e63ac23>, line 20)",
          "traceback": [
            "\u001b[0;36m  File \u001b[0;32m\"<ipython-input-29-77d60e63ac23>\"\u001b[0;36m, line \u001b[0;32m20\u001b[0m\n\u001b[0;31m    print(\"Insufficient funds or invalid withdrawal amount.\")\u001b[0m\n\u001b[0m    ^\u001b[0m\n\u001b[0;31mIndentationError\u001b[0m\u001b[0;31m:\u001b[0m unexpected indent\n"
          ]
        }
      ]
    },
    {
      "cell_type": "markdown",
      "source": [
        "# **Question 11. Write a class that overrides the __str__ and__add__ magic methods. What will these methods allow you to  do?**"
      ],
      "metadata": {
        "id": "xCn_RdpYXlLT"
      }
    },
    {
      "cell_type": "code",
      "source": [
        "# : . Write a class that overrides the __str__ and__add__ magic methods. What will these methods allow you to  do\n",
        "\n",
        "class SpecialString:\n",
        "    def __init__(self, cont):\n",
        "        self.cont = cont\n",
        "\n",
        "    def __str__(self):\n",
        "        return \"Special String: \" + self.cont\n",
        "\n",
        "    def __add__(self, other):\n",
        "        return SpecialString(self.cont + other.cont)\n",
        "\n",
        "# Examples\n",
        "string1 = SpecialString(\"Hello\")\n",
        "string2 = SpecialString(\" World\")\n",
        "\n",
        "# The __str__ method allows us to customize how the object is printed\n",
        "print(string1)  # Output: Special String: Hello\n",
        "\n",
        "# The __add__ method overloads the + operator, enabling concatenation of SpecialString objects\n",
        "string3 = string1 + string2\n",
        "print(string3)  # Output: Special String: Hello World"
      ],
      "metadata": {
        "colab": {
          "base_uri": "https://localhost:8080/"
        },
        "id": "LYbPPkoxXTtk",
        "outputId": "981cef10-be3c-4ebb-bc57-6b0b1b729fd3"
      },
      "execution_count": 31,
      "outputs": [
        {
          "output_type": "stream",
          "name": "stdout",
          "text": [
            "Special String: Hello\n",
            "Special String: Hello World\n"
          ]
        }
      ]
    },
    {
      "cell_type": "markdown",
      "source": [
        "# **Question 12.Create a decorator that measures and prints the execution time of a function?**"
      ],
      "metadata": {
        "id": "_v9e60iJXsOu"
      }
    },
    {
      "cell_type": "code",
      "source": [
        "# : Create a decorator that measures and prints the execution time of a function.\n",
        "\n",
        "import time\n",
        "\n",
        "def measure_execution_time(func):\n",
        "    def wrapper(*args, **kwargs):\n",
        "        start_time = time.time()\n",
        "        result = func(*args, **kwargs)\n",
        "        end_time = time.time()\n",
        "        execution_time = end_time - start_time\n",
        "        print(f\"Function '{func.__name__}' took {execution_time:.4f} seconds to execute.\")\n",
        "        return result\n",
        "    return wrapper"
      ],
      "metadata": {
        "id": "azr3EE03Xjft"
      },
      "execution_count": 32,
      "outputs": []
    },
    {
      "cell_type": "markdown",
      "source": [
        "#**Question 13.Explain the concept of the Diamond Problem in multiple inheritance. How does Python resolve it?**"
      ],
      "metadata": {
        "id": "KhxwXVi5X_Mq"
      }
    },
    {
      "cell_type": "code",
      "source": [
        "# : Explain the concept of the Diamond Problem in multiple inheritance. How does Python resolve it?\n",
        "\n",
        "class A:\n",
        "  def method(self):\n",
        "    print(\"A's method\")\n",
        "\n",
        "class B(A):\n",
        "  def method(self):\n",
        "    print(\"B's method\")\n",
        "\n",
        "class C(A):\n",
        "  def method(self):\n",
        "    print(\"C's method\")\n",
        "\n",
        "class D(B, C):  # Diamond problem: inherits from B and C, both inheriting from A\n",
        "  pass"
      ],
      "metadata": {
        "id": "RUv6CJCYX5tc"
      },
      "execution_count": 33,
      "outputs": []
    },
    {
      "cell_type": "markdown",
      "source": [
        "# **Question 14.Write a class method that keeps track of the number of instances created from a class?**"
      ],
      "metadata": {
        "id": "5L_JG2b3YRAG"
      }
    },
    {
      "cell_type": "code",
      "source": [
        "# : Write a class method that keeps track of the number of instances created from a class.\n",
        "\n",
        "class MyClass:\n",
        "    instance_count = 0\n",
        "\n",
        "    def __init__(self):\n",
        "        MyClass.instance_count += 1\n",
        "\n",
        "    @classmethod\n",
        "    def get_instance_count(cls):\n",
        "        return cls.instance_count"
      ],
      "metadata": {
        "id": "vRfM6RrJYKgz"
      },
      "execution_count": 34,
      "outputs": []
    },
    {
      "cell_type": "markdown",
      "source": [
        "# **Question 15.Implement a static method in a class that checks if a given year is a leap year?**"
      ],
      "metadata": {
        "id": "Sg97y-2YYepM"
      }
    },
    {
      "cell_type": "code",
      "source": [
        "# : Implement a static method in a class that checks if a given year is a leap year.\n",
        "\n",
        "class DateUtils:\n",
        "    @staticmethod\n",
        "    def is_leap_year(year):\n",
        "        \"\"\"\n",
        "        Checks if a given year is a leap year.\n",
        "\n",
        "        Args:\n",
        "            year: The year to check.\n",
        "\n",
        "        Returns:\n",
        "            True if the year is a leap year, False otherwise.\n",
        "        \"\"\"\n",
        "        if year % 4 != 0:\n",
        "            return False\n",
        "        elif year % 100 == 0:\n",
        "            if year % 400 == 0:\n",
        "                return True\n",
        "            else:\n",
        "                return False\n",
        "        else:\n",
        "            return True"
      ],
      "metadata": {
        "id": "bDz0FSoEYf_B"
      },
      "execution_count": 35,
      "outputs": []
    },
    {
      "cell_type": "code",
      "source": [],
      "metadata": {
        "id": "VIexNtASYiuc"
      },
      "execution_count": null,
      "outputs": []
    }
  ]
}