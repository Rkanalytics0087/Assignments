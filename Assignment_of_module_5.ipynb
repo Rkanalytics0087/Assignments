{
  "nbformat": 4,
  "nbformat_minor": 0,
  "metadata": {
    "colab": {
      "provenance": []
    },
    "kernelspec": {
      "name": "python3",
      "display_name": "Python 3"
    },
    "language_info": {
      "name": "python"
    }
  },
  "cells": [
    {
      "cell_type": "markdown",
      "source": [
        "# Assignment 5"
      ],
      "metadata": {
        "id": "hlL1Ibx3PNj-"
      }
    },
    {
      "cell_type": "markdown",
      "source": [
        " Question 1.) Discuss string slicing and provide examples ?"
      ],
      "metadata": {
        "id": "VqOmzJMeBoY5"
      }
    },
    {
      "cell_type": "code",
      "source": [
        "#string is a sequence of character>represent and manipulate textual data\n",
        "#characters are represented using numerical values>> each character is assigned a unique no\n",
        "#ASCII (7 bits) and UNICODE (16 bits)>>ascii>>2to power8>>128 character has been encoded whereas utf is 2 to power 16, almost covered every character of every langauage\n",
        "#UTF-8, UTF 16 >> popular encoding schemes for unicode>>widely accepeted in industry\n",
        "#ASCII>>American Standard Code for Information Interchange\n",
        "#UTF(unicode transformation format)\n",
        "\n",
        "#Extract/slicing of string"
      ],
      "metadata": {
        "id": "XgM3GDUOVKul"
      },
      "execution_count": 4,
      "outputs": []
    },
    {
      "cell_type": "code",
      "source": [
        "R = \"ritik\"\n",
        "R[0:5] # We can select each individual one by one, i.e (\"r\",\"i\",\"t\",\"t\",\"i\",\"k\").\n"
      ],
      "metadata": {
        "colab": {
          "base_uri": "https://localhost:8080/",
          "height": 36
        },
        "id": "8imK7eZrVyII",
        "outputId": "b49ffc34-7e88-4fac-d5a3-e0fbd408c1f9"
      },
      "execution_count": 10,
      "outputs": [
        {
          "output_type": "execute_result",
          "data": {
            "text/plain": [
              "'ritik'"
            ],
            "application/vnd.google.colaboratory.intrinsic+json": {
              "type": "string"
            }
          },
          "metadata": {},
          "execution_count": 10
        }
      ]
    },
    {
      "cell_type": "code",
      "source": [
        "R[6]# it will show an error becuase there is no in a place on 6 (ritik has only 5 letter their is no alfabet which is place on the indexing on number 6)"
      ],
      "metadata": {
        "colab": {
          "base_uri": "https://localhost:8080/",
          "height": 141
        },
        "id": "X_lXrRfyWo0w",
        "outputId": "2837390d-b1b6-452a-edd3-50d60fe57b1d"
      },
      "execution_count": 11,
      "outputs": [
        {
          "output_type": "error",
          "ename": "IndexError",
          "evalue": "string index out of range",
          "traceback": [
            "\u001b[0;31m---------------------------------------------------------------------------\u001b[0m",
            "\u001b[0;31mIndexError\u001b[0m                                Traceback (most recent call last)",
            "\u001b[0;32m<ipython-input-11-acbdbd29dc6a>\u001b[0m in \u001b[0;36m<cell line: 1>\u001b[0;34m()\u001b[0m\n\u001b[0;32m----> 1\u001b[0;31m \u001b[0mR\u001b[0m\u001b[0;34m[\u001b[0m\u001b[0;36m6\u001b[0m\u001b[0;34m]\u001b[0m\u001b[0;34m\u001b[0m\u001b[0;34m\u001b[0m\u001b[0m\n\u001b[0m",
            "\u001b[0;31mIndexError\u001b[0m: string index out of range"
          ]
        }
      ]
    },
    {
      "cell_type": "code",
      "source": [
        "r = \"ritik is a good person\"\n",
        "r[0:16] #start_index:end_index>> if you not provide end idex, it will be default give substring till the last index"
      ],
      "metadata": {
        "colab": {
          "base_uri": "https://localhost:8080/",
          "height": 36
        },
        "id": "hO5-Y5TdXCHH",
        "outputId": "21e11525-dfd5-485d-be6d-2d6a54dabf1d"
      },
      "execution_count": 3,
      "outputs": [
        {
          "output_type": "execute_result",
          "data": {
            "text/plain": [
              "'ritik is a good '"
            ],
            "application/vnd.google.colaboratory.intrinsic+json": {
              "type": "string"
            }
          },
          "metadata": {},
          "execution_count": 3
        }
      ]
    },
    {
      "cell_type": "code",
      "source": [
        "string100 = \"i am going to be rich\"\n",
        "string100[0:100:2] ##syntax>> [start:end:step]"
      ],
      "metadata": {
        "colab": {
          "base_uri": "https://localhost:8080/",
          "height": 36
        },
        "id": "Bi7DQyhzYWRN",
        "outputId": "1667013c-e6d5-41f5-cf3e-307307e85059"
      },
      "execution_count": 24,
      "outputs": [
        {
          "output_type": "execute_result",
          "data": {
            "text/plain": [
              "'ia on ob ih'"
            ],
            "application/vnd.google.colaboratory.intrinsic+json": {
              "type": "string"
            }
          },
          "metadata": {},
          "execution_count": 24
        }
      ]
    },
    {
      "cell_type": "code",
      "source": [
        "# No. of characters\n",
        "len(r)"
      ],
      "metadata": {
        "colab": {
          "base_uri": "https://localhost:8080/"
        },
        "id": "pbceYYhBYWZZ",
        "outputId": "f006a3cf-e361-4e04-e22f-faa9333333c7"
      },
      "execution_count": 4,
      "outputs": [
        {
          "output_type": "execute_result",
          "data": {
            "text/plain": [
              "22"
            ]
          },
          "metadata": {},
          "execution_count": 4
        }
      ]
    },
    {
      "cell_type": "code",
      "source": [
        "# Strings are imutable you cannot change them."
      ],
      "metadata": {
        "id": "AjBAETtf83Qc"
      },
      "execution_count": null,
      "outputs": []
    },
    {
      "cell_type": "markdown",
      "source": [
        "Question 2.) Explain the key features of lists in Python ?"
      ],
      "metadata": {
        "id": "2D_bketdBoq0"
      }
    },
    {
      "cell_type": "code",
      "source": [
        "# Ordered Collection\n",
        "Lists maintain the order of elements as they are inserted. This means the order in which you add items to the list is preserved.\n",
        "\n",
        "Example:\n",
        "\n",
        "fruits = [\"apple\", \"banana\", \"cherry\"]\n",
        "print(fruits)  # Output: ['apple', 'banana', 'cherry']\n",
        "\n",
        "# Mutable\n",
        "Lists can be modified after their creation. You can change, add, and remove elements.\n",
        "\n",
        "Example:\n",
        "\n",
        "fruits = [\"apple\", \"banana\", \"cherry\"]\n",
        "fruits[1] = \"blueberry\"\n",
        "print(fruits)  # Output: ['apple', 'blueberry', 'cherry']\n",
        "\n",
        "# Heterogeneous Elements\n",
        "Definition: Lists can contain items of different types.\n",
        "\n",
        "Example:\n",
        "\n",
        "random_items = [42, \"hello\", 3.14, [1, 2, 3]]\n",
        "print(random_items)  # Output: [42, 'hello', 3.14, [1, 2, 3]]\n",
        "\n",
        "# Dynamic Size\n",
        "Definition: Lists can grow and shrink as needed. You can add or remove elements at any time.\n",
        "\n",
        "Example:\n",
        "\n",
        "numbers = [1, 2, 3]\n",
        "numbers.append(4)\n",
        "print(numbers)  # Output: [1, 2, 3, 4]\n",
        "numbers.pop()\n",
        "print(numbers)  # Output: [1, 2, 3]\n",
        "\n",
        "# Indexing and Slicing\n",
        "You can access individual elements using indices, and you can retrieve a portion of the list using slicing.\n",
        "\n",
        "Example:\n",
        "\n",
        "letters = ['a', 'b', 'c', 'd', 'e']\n",
        "print(letters[2])   # Output: 'c'\n",
        "print(letters[1:4]) # Output: ['b', 'c', 'd']\n",
        "\n",
        "# List Comprehensions\n",
        "A compact way to create lists using a single line of code.\n",
        "\n",
        "Example:\n",
        "\n",
        "squares = [x**2 for x in range(5)]\n",
        "print(squares)  # Output: [0, 1, 4, 9, 16]\n",
        "\n",
        "# Built-in Functions and Methods\n",
        "Python provides a variety of built-in functions (like len(), min(), max()) and methods (append(), extend(), insert(), remove(), etc.) to work with lists.\n",
        "\n",
        "Example:\n",
        "\n",
        "fruits = [\"apple\", \"banana\", \"cherry\"]\n",
        "print(len(fruits))  # Output: 3\n",
        "fruits.remove(\"banana\")\n",
        "print(fruits)       # Output: ['apple', 'cherry']\n",
        "\n",
        "# Iterable\n",
        "Lists are iterable, meaning you can loop through their elements.\n",
        "\n",
        "Example:\n",
        "\n",
        "for fruit in [\"apple\", \"banana\", \"cherry\"]:\n",
        "    print(fruit)\n",
        "# Output:\n",
        "# apple\n",
        "# banana\n",
        "# cherry\n",
        "Lists are versatile and one of the most commonly used data structures in Python due to these powerful features. Let me know if you need further details on any specific feature!"
      ],
      "metadata": {
        "id": "OdG32a2O816q"
      },
      "execution_count": null,
      "outputs": []
    },
    {
      "cell_type": "markdown",
      "source": [
        "# Question 3.) Describe how to access, modify and delete elements in a list with examples?"
      ],
      "metadata": {
        "id": "bqOVAYO5BouZ"
      }
    },
    {
      "cell_type": "markdown",
      "source": [
        "# Deleting Elements\n",
        "You can delete elements from a list using the del statement, the remove() method, or the pop() method.\n",
        "\n",
        "Using del statement: Deletes an element at a specific index."
      ],
      "metadata": {
        "id": "2d4jWxSlGF2O"
      }
    },
    {
      "cell_type": "code",
      "source": [
        "\n",
        "# Sample list\n",
        "fruits = [\"apple\", \"banana\", \"cherry\", \"date\"]\n",
        "\n",
        "# Deleting an element\n",
        "del fruits[1]\n",
        "print(fruits)  # Output: ['apple', 'cherry', 'date']\n",
        "\n",
        "# Using remove() method: Removes the first occurrence of a specific value.\n",
        "\n",
        "\n",
        "# Sample list 2\n",
        "fruits = [\"apple\", \"banana\", \"cherry\", \"date\"]\n",
        "\n",
        "# Removing an element\n",
        "fruits.remove(\"banana\")\n",
        "print(fruits)  # Output: ['apple', 'cherry', 'date']\n",
        "\n",
        "# Using pop() method: Removes and returns the element at a specific index. If no index is specified, it removes and returns the last element.\n",
        "\n",
        "# Sample list 3\n",
        "fruits = [\"apple\", \"banana\", \"cherry\", \"date\"]\n",
        "\n",
        "# Removing and getting an element\n",
        "removed_fruit = fruits.pop(1)\n",
        "print(removed_fruit)  # Output: 'banana'\n",
        "print(fruits)         # Output: ['apple', 'cherry', 'date']"
      ],
      "metadata": {
        "colab": {
          "base_uri": "https://localhost:8080/"
        },
        "id": "vWotgA0N-znc",
        "outputId": "758d82b4-603a-4849-9a67-16ebd42e47f9"
      },
      "execution_count": 10,
      "outputs": [
        {
          "output_type": "stream",
          "name": "stdout",
          "text": [
            "['apple', 'cherry', 'date']\n",
            "['apple', 'cherry', 'date']\n",
            "banana\n",
            "['apple', 'cherry', 'date']\n"
          ]
        }
      ]
    },
    {
      "cell_type": "markdown",
      "source": [
        "# **Modifying list**\n",
        "\n",
        "## Append method\n",
        "The append() method is used to add an element to the end of a list.\n",
        "\n",
        "It modifies the original list by adding a new element.\n",
        "\n",
        "It is a common operation when you want to add new data or elements to an existing list."
      ],
      "metadata": {
        "id": "9KkG4tmKBWB7"
      }
    },
    {
      "cell_type": "code",
      "source": [
        "# example\n",
        "fruits = [\"apple\", \"banana\", \"cherry\"]\n",
        "\n",
        "# Append an item to the list\n",
        "fruits.append(\"date\")\n",
        "\n",
        "fruits\n"
      ],
      "metadata": {
        "colab": {
          "base_uri": "https://localhost:8080/"
        },
        "id": "CLXzszPPBwht",
        "outputId": "f035041f-b1af-4ddd-fe34-13f21634fe92"
      },
      "execution_count": 6,
      "outputs": [
        {
          "output_type": "execute_result",
          "data": {
            "text/plain": [
              "['apple', 'banana', 'cherry', 'date']"
            ]
          },
          "metadata": {},
          "execution_count": 6
        }
      ]
    },
    {
      "cell_type": "markdown",
      "source": [
        "# Extend Method\n",
        "The extend()\n",
        "Method is used to append elements from another iterable (e.g., a list or tuple) to the end of the list.\n",
        "\n",
        "Modifies the original list by adding the new elements"
      ],
      "metadata": {
        "id": "wpOaQFm0CN8P"
      }
    },
    {
      "cell_type": "code",
      "source": [
        "# Extend list example\n",
        "\n",
        "letters = [\"a\", \"b\", \"c\"]\n",
        "\n",
        "# Extending the list with a string\n",
        "letters.extend(\"def\")\n",
        "\n",
        "# Print the updated list\n",
        "print(letters)\n",
        "\n"
      ],
      "metadata": {
        "colab": {
          "base_uri": "https://localhost:8080/"
        },
        "id": "q9QPnJS1Cx8d",
        "outputId": "683d5360-38f4-4ea9-c444-83ece86de4a4"
      },
      "execution_count": 7,
      "outputs": [
        {
          "output_type": "stream",
          "name": "stdout",
          "text": [
            "['a', 'b', 'c', 'd', 'e', 'f']\n"
          ]
        }
      ]
    },
    {
      "cell_type": "markdown",
      "source": [
        "#**Insert Method **\n",
        "2.)The insert() method allows you to add an element at a specified index in the list¸\n",
        "\n",
        "1.) It also modifies the original list."
      ],
      "metadata": {
        "id": "qMFXrtLjE7fo"
      }
    },
    {
      "cell_type": "code",
      "source": [
        "# Think of a list as a recipe, and you want to insert a\n",
        "# new ingredient (element) at a specific step. You use the insert()\n",
        "# method to add it at the desired location in the recipe.\n",
        "\n",
        "recipe = [\"flour\", \"sugar\", \"eggs\", \"milk\"]\n",
        "\n",
        "recipe.insert(2, \"baking powder\")\n",
        "\n",
        "recipe"
      ],
      "metadata": {
        "colab": {
          "base_uri": "https://localhost:8080/"
        },
        "id": "HwdhJI3dFKKX",
        "outputId": "84fb747b-0fa5-4e1c-f98c-2e4d5993edce"
      },
      "execution_count": 9,
      "outputs": [
        {
          "output_type": "execute_result",
          "data": {
            "text/plain": [
              "['flour', 'sugar', 'baking powder', 'eggs', 'milk']"
            ]
          },
          "metadata": {},
          "execution_count": 9
        }
      ]
    },
    {
      "cell_type": "markdown",
      "source": [
        "#Accessing elements\n",
        "\n",
        "You can access elements in a list using indexing. Lists are zero-indexed, meaning the first element is at index 0, the second at index 1, and so on."
      ],
      "metadata": {
        "id": "lf1zvM_QDV8G"
      }
    },
    {
      "cell_type": "code",
      "source": [
        "# Example\n",
        "fruits = [\"apple\", \"banana\", \"cherry\", \"date\"]\n",
        "\n",
        "# Accessing elements\n",
        "print(fruits[0])\n",
        "print(fruits[2])\n",
        "\n",
        "# Accessing the last element\n",
        "print(fruits[-1])\n",
        "\n",
        "# Slicing the list\n",
        "print(fruits[1:3])\n"
      ],
      "metadata": {
        "colab": {
          "base_uri": "https://localhost:8080/"
        },
        "id": "niC9IpGmCyPg",
        "outputId": "150230c6-1a53-4b86-ab5a-69163ade5345"
      },
      "execution_count": 8,
      "outputs": [
        {
          "output_type": "stream",
          "name": "stdout",
          "text": [
            "apple\n",
            "cherry\n",
            "date\n",
            "['banana', 'cherry']\n"
          ]
        }
      ]
    },
    {
      "cell_type": "markdown",
      "source": [
        "Question 4.) Compare and contrast tuples and lists with examples ?\n"
      ],
      "metadata": {
        "id": "YYTIMZ2nBoyf"
      }
    },
    {
      "cell_type": "code",
      "source": [
        "# In Python, both tuples and lists are used to store collections of items, but they have several key differences. Here's a comparison of tuples and lists, focusing on their similarities and differences:\n",
        "\n",
        "# 1. Basic Definition\n",
        "\n",
        "# List: A list is a collection that is ordered and mutable, meaning you can change its elements (add, remove, or modify). Tuple: A tuple is also an ordered collection, but it is immutable, meaning once a tuple is created, its elements cannot be changed\n",
        "\n",
        "# 2. Syntax\n",
        "\n",
        "# List: Defined using square brackets []. Tuple: Defined using parentheses ().\n",
        "\n",
        "\n",
        "[ ]\n",
        "# List\n",
        "my_list = [1, 2, 3, 4]\n",
        "\n",
        "# Tuple\n",
        "my_tuple = (1, 2, 3, 4)\n",
        "\n",
        "# 3. Mutability\n",
        "\n",
        "# List: Lists are mutable, so you can modify, add, or remove elements after the list is created. Tuple: Tuples are immutable, meaning you cannot modify the elements once the tuple is created.\n",
        "\n",
        "\n",
        "[ ]\n",
        "# Modifying a list\n",
        "my_list = [1, 2, 3]\n",
        "my_list[1] = 5  # Changing the second element\n",
        "print(my_list)  # Output: [1, 5, 3]\n",
        "\n",
        "# Trying to modify a tuple (this will raise an error)\n",
        "my_tuple = (1, 2, 3)\n",
        "# my_tuple[1] = 5  # TypeError: 'tuple' object does not support item assignment\n",
        "\n",
        "# 4. Performance\n",
        "\n",
        "# List: Lists are generally slower than tuples because they are mutable and require more memory management (as they allow for operations like resizing). Tuple: Tuples are faster than lists for operations like iteration because they are immutable, making them more memory efficient.\n",
        "\n",
        "# 5. Use Cases\n",
        "\n",
        "# List: Use lists when you need a collection of items that may need to be changed during the program's lifecycle, such as in cases where elements are frequently added or removed. Tuple: Use tuples when you have a fixed collection of items that should not change, such as the coordinates of a point or the days of the week.\n",
        "\n",
        "\n",
        "[ ]\n",
        "# List (shopping list that may change)\n",
        "shopping_list = [\"milk\", \"bread\", \"eggs\"]\n",
        "shopping_list.append(\"butter\")\n",
        "print(shopping_list)  # Output: ['milk', 'bread', 'eggs', 'butter']\n",
        "\n",
        "# Tuple (coordinates of a point, which should not change)\n",
        "coordinates = (10, 20)\n",
        "# coordinates[0] = 15  # TypeError: 'tuple' object does not support item assignment\n",
        "\n",
        "# 6. Methods and Functions\n",
        "\n",
        "# List: Lists have several built-in methods like append(), remove(), pop(), sort(), etc. Tuple: Tuples have fewer methods because they are immutable. They only support methods like count() and index().\n",
        "\n",
        "\n",
        "[ ]\n",
        "# List methods\n",
        "my_list = [1, 2, 3]\n",
        "my_list.append(4)\n",
        "print(my_list)  # Output: [1, 2, 3, 4]\n",
        "\n",
        "# Tuple methods\n",
        "my_tuple = (1, 2, 3)\n",
        "print(my_tuple.index(2))  # Output: 1\n",
        "\n",
        "# 7. Size and Memory Usage\n",
        "\n",
        "# List: Lists take up more memory because they are mutable and have extra memory allocated for accommodating changes. Tuple: Tuples take up less memory, as they are immutable and do not need extra memory for modifications. You can measure the size of each using the sys.getsizeof() function:\n",
        "\n",
        "\n",
        "[ ]\n",
        "import sys\n",
        "\n",
        "# Memory usage\n",
        "my_list = [1, 2, 3]\n",
        "my_tuple = (1, 2, 3)\n",
        "\n",
        "print(sys.getsizeof(my_list))  # Output: Larger size\n",
        "print(sys.getsizeof(my_tuple))  # Output: Smaller size\n",
        "\n",
        "# 8. Immutability and Safety\n",
        "\n",
        "# List: Since lists are mutable, they are less safe to use in multi-threaded environments where modifications might lead to unintended side effects. Tuple: Tuples are immutable and thus safer for use in situations where data should remain constant and not be accidentally modified.\n",
        "\n",
        "# 9. Packing and Unpacking\n",
        "\n",
        "# Both lists and tuples support packing and unpacking.\n",
        "\n",
        "# Packing: Combining multiple values into a single list or tuple. Unpacking: Assigning values from a list or tuple to individual variables.\n",
        "\n",
        "\n",
        "[ ]\n",
        "# Packing a tuple\n",
        "my_tuple = 1, 2, 3\n",
        "print(my_tuple)  # Output: (1, 2, 3)\n",
        "\n",
        "# Unpacking a tuple\n",
        "a, b, c = my_tuple\n",
        "print(a, b, c)  # Output: 1 2 3\n",
        "\n",
        "# 10. Nested Structures\n",
        "\n",
        "# Both lists and tuples can be nested, meaning you can have lists of lists or tuples of tuples, as well as combinations of both\n",
        "\n",
        "\n",
        "[ ]\n",
        "# Nested list\n",
        "nested_list = [[1, 2], [3, 4]]\n",
        "print(nested_list)  # Output: [[1, 2], [3, 4]]\n",
        "\n",
        "# Nested tuple\n",
        "nested_tuple = ((1, 2), (3, 4))\n",
        "print(nested_tuple)  # Output: ((1, 2), (3, 4))\n",
        "\n",
        "# 11. Conversion Between Lists and Tuples\n",
        "\n",
        "# You can easily convert between lists and tuples using the list() and tuple() functions.\n",
        "\n",
        "\n",
        "[ ]\n",
        "# Convert list to tuple\n",
        "my_list = [1, 2, 3]\n",
        "my_tuple = tuple(my_list)\n",
        "print(my_tuple)  # Output: (1, 2, 3)\n",
        "\n",
        "# Convert tuple to list\n",
        "my_tuple = (1, 2, 3)\n",
        "my_list = list(my_tuple)\n",
        "print(my_list)  # Output: [1, 2, 3]\n"
      ],
      "metadata": {
        "colab": {
          "base_uri": "https://localhost:8080/"
        },
        "id": "RalB8ElIGvqp",
        "outputId": "51631041-8683-453f-8998-2ed712bfe532"
      },
      "execution_count": 11,
      "outputs": [
        {
          "output_type": "stream",
          "name": "stdout",
          "text": [
            "[1, 5, 3]\n",
            "['milk', 'bread', 'eggs', 'butter']\n",
            "[1, 2, 3, 4]\n",
            "1\n",
            "88\n",
            "64\n",
            "(1, 2, 3)\n",
            "1 2 3\n",
            "[[1, 2], [3, 4]]\n",
            "((1, 2), (3, 4))\n",
            "(1, 2, 3)\n",
            "[1, 2, 3]\n"
          ]
        }
      ]
    },
    {
      "cell_type": "markdown",
      "source": [
        "Question 5.)  Describe the key features of sets and provide examples of their sets ?"
      ],
      "metadata": {
        "id": "bwQMZJvHBo2E"
      }
    },
    {
      "cell_type": "markdown",
      "source": [
        "A set in Python is an unordered, mutable collection of unique elements. Sets are particularly useful when you need to store items that must not contain duplicates and when membership testing (checking whether an element is in the set) or operations like union, intersection, and difference are needed. Below are the key features of sets along with examples of their use:\n",
        "\n",
        "Key Features of Sets\n",
        "\n"
      ],
      "metadata": {
        "id": "rO-54Ea4Hpb3"
      }
    },
    {
      "cell_type": "markdown",
      "source": [
        "1. Unordered\n",
        "\n",
        "Sets do not maintain the order of elements. This means you cannot rely on the order in which elements are stored or retrieved"
      ],
      "metadata": {
        "id": "vv7HTUW_HsvA"
      }
    },
    {
      "cell_type": "code",
      "source": [
        "my_set = {3, 1, 2}\n",
        "print(my_set)  # Output: {1, 2, 3} or {2, 3, 1}, but the order is not guaranteed.\n"
      ],
      "metadata": {
        "id": "z8v0GeytHzb2"
      },
      "execution_count": null,
      "outputs": []
    },
    {
      "cell_type": "markdown",
      "source": [
        "2. Mutable\n",
        "\n",
        "Sets are mutable, meaning you can add or remove elements after the set has been created."
      ],
      "metadata": {
        "id": "EUt9TsmoHu5Y"
      }
    },
    {
      "cell_type": "code",
      "source": [
        "my_set = {1, 2, 3}\n",
        "my_set.add(4)\n",
        "print(my_set)  # Output: {1, 2, 3, 4}\n"
      ],
      "metadata": {
        "id": "m5p8iIc_H78c"
      },
      "execution_count": null,
      "outputs": []
    },
    {
      "cell_type": "markdown",
      "source": [
        "3. Unique Elements\n",
        "\n",
        "Sets only store unique elements, meaning if you try to add duplicate elements, they will be automatically removed."
      ],
      "metadata": {
        "id": "cdRZewfpH561"
      }
    },
    {
      "cell_type": "code",
      "source": [
        "my_set = {1, 2, 2, 3, 4, 4}\n",
        "print(my_set)  # Output: {1, 2, 3, 4} (duplicates are removed)\n"
      ],
      "metadata": {
        "id": "WjcBnEH8H6PL"
      },
      "execution_count": null,
      "outputs": []
    },
    {
      "cell_type": "markdown",
      "source": [
        "4. Unindexed\n",
        "\n",
        "Unlike lists or tuples, sets do not support indexing or slicing because they are unordered. You cannot access elements by position."
      ],
      "metadata": {
        "id": "h2fj7K2MHvQO"
      }
    },
    {
      "cell_type": "code",
      "source": [
        "my_set = {1, 2, 3}\n",
        "# my_set[0]  # This will raise a TypeError: 'set' object is not subscriptable\n"
      ],
      "metadata": {
        "id": "pD-ZEzi4H5Nx"
      },
      "execution_count": null,
      "outputs": []
    },
    {
      "cell_type": "markdown",
      "source": [
        "5. Fast Membership Testing\n",
        "\n",
        "Sets are optimized for membership testing. Checking if an element exists in a set is much faster than checking in a list because sets use a hash table for storage."
      ],
      "metadata": {
        "id": "HiNi37FVHvS3"
      }
    },
    {
      "cell_type": "markdown",
      "source": [
        "6. Set Operations (Union, Intersection, Difference)\n",
        "\n",
        "Sets provide efficient built-in operations like union, intersection, and difference. - Union: Combines elements from two sets (all unique elements from both sets).\n"
      ],
      "metadata": {
        "id": "aYnnmpOHHvWO"
      }
    },
    {
      "cell_type": "code",
      "source": [
        "[ ]\n",
        "set1 = {1, 2, 3}\n",
        "set2 = {3, 4, 5}\n",
        "union_set = set1.union(set2)\n",
        "print(union_set)  # Output: {1, 2, 3, 4, 5}\n"
      ],
      "metadata": {
        "id": "aIHBQksGIsg_"
      },
      "execution_count": null,
      "outputs": []
    },
    {
      "cell_type": "markdown",
      "source": [
        "Intersection: Returns the common elements between two sets."
      ],
      "metadata": {
        "id": "1Fmhfbf-IyHU"
      }
    },
    {
      "cell_type": "code",
      "source": [
        "set1 = {1, 2, 3}\n",
        "set2 = {2, 3, 4}\n",
        "intersection_set = set1.intersection(set2)\n",
        "print(intersection_set) # Output: {2, 3}\n"
      ],
      "metadata": {
        "colab": {
          "base_uri": "https://localhost:8080/"
        },
        "id": "pe82eOcrI4Au",
        "outputId": "e90b44ef-f977-49b4-d000-b737dcaffbdb"
      },
      "execution_count": 12,
      "outputs": [
        {
          "output_type": "stream",
          "name": "stdout",
          "text": [
            "{2, 3}\n"
          ]
        }
      ]
    },
    {
      "cell_type": "markdown",
      "source": [
        "Difference: Returns the elements that are in one set but not in the other."
      ],
      "metadata": {
        "id": "Zi-vlX2hJGFC"
      }
    },
    {
      "cell_type": "code",
      "source": [
        "set1 = {1, 2, 3}\n",
        "set2 = {2, 3, 4}\n",
        "difference_set = set1.difference(set2)\n",
        "print(difference_set)  # Output: {1}"
      ],
      "metadata": {
        "colab": {
          "base_uri": "https://localhost:8080/"
        },
        "id": "6f2WkqWKJHSh",
        "outputId": "26743822-3cbb-4bbe-84dc-9b0434324a09"
      },
      "execution_count": 13,
      "outputs": [
        {
          "output_type": "stream",
          "name": "stdout",
          "text": [
            "{1}\n"
          ]
        }
      ]
    },
    {
      "cell_type": "code",
      "source": [
        "\n",
        "set1 = {1, 2, 3}\n",
        "set2 = {2, 3, 4}\n",
        "difference_set = set1.difference(set2)\n",
        "print(difference_set)"
      ],
      "metadata": {
        "colab": {
          "base_uri": "https://localhost:8080/"
        },
        "id": "tnqKvvC8IoEI",
        "outputId": "0bd42007-e6db-40d6-aa94-4db1447b332f"
      },
      "execution_count": 14,
      "outputs": [
        {
          "output_type": "stream",
          "name": "stdout",
          "text": [
            "{1}\n"
          ]
        }
      ]
    },
    {
      "cell_type": "markdown",
      "source": [
        "\n",
        "Symmetric Difference: Returns elements that are in either set, but not in both"
      ],
      "metadata": {
        "id": "TOIn2HhHJUus"
      }
    },
    {
      "cell_type": "code",
      "source": [
        "set1 = {1, 2, 3}\n",
        "set2 = {2, 3, 4}\n",
        "symmetric_diff_set = set1.symmetric_difference(set2)\n",
        "print(symmetric_diff_set)  # Output: {1, 4}"
      ],
      "metadata": {
        "id": "-uKrcv_FJW5X"
      },
      "execution_count": null,
      "outputs": []
    },
    {
      "cell_type": "markdown",
      "source": [
        "Question 6.)  Discuss the use cases of tuples and sets in Python programming ?"
      ],
      "metadata": {
        "id": "bopdzTPfJYyX"
      }
    },
    {
      "cell_type": "markdown",
      "source": [
        "Tuples and sets are both important data structures in Python, each with distinct characteristics and use cases. Here’s a discussion on the use cases of tuples and sets in Python programming:\n",
        "\n",
        "Use Cases of Tuples\n",
        "\n",
        "Immutable Data Storage:\n",
        "\n",
        "Use Case: Tuples are used to store data that should not change throughout the program’s lifecycle, such as configuration settings, fixed values, or records."
      ],
      "metadata": {
        "id": "VKxWydnPJgIl"
      }
    },
    {
      "cell_type": "code",
      "source": [
        "config = (\"localhost\", 8080, \"user\", \"password\")  # Database configuration\n",
        "config"
      ],
      "metadata": {
        "colab": {
          "base_uri": "https://localhost:8080/"
        },
        "id": "avnYRAj2J038",
        "outputId": "5683ad62-95fd-48ba-9dd1-ee3647181075"
      },
      "execution_count": 16,
      "outputs": [
        {
          "output_type": "execute_result",
          "data": {
            "text/plain": [
              "('localhost', 8080, 'user', 'password')"
            ]
          },
          "metadata": {},
          "execution_count": 16
        }
      ]
    },
    {
      "cell_type": "markdown",
      "source": [
        "Heterogeneous Data:\n",
        "\n",
        "Use Case: Tuples can hold mixed data types (e.g., integers, strings, lists), making them suitable for representing complex records."
      ],
      "metadata": {
        "id": "PtSD5ghoJ-2J"
      }
    },
    {
      "cell_type": "code",
      "source": [
        "person = (\"Alice\", 30, [\"reading\", \"hiking\"])"
      ],
      "metadata": {
        "colab": {
          "base_uri": "https://localhost:8080/"
        },
        "id": "923AMb8mKAN1",
        "outputId": "7dd1cdd8-c8d3-4f86-e357-bdbae27a9ba9"
      },
      "execution_count": 18,
      "outputs": [
        {
          "output_type": "execute_result",
          "data": {
            "text/plain": [
              "('Alice', 30, ['reading', 'hiking'])"
            ]
          },
          "metadata": {},
          "execution_count": 18
        }
      ]
    },
    {
      "cell_type": "markdown",
      "source": [
        "Returning Multiple Values from Functions:\n",
        "\n",
        "Use Case: Functions can return multiple values as tuples, making it easy to pack and unpack the results"
      ],
      "metadata": {
        "id": "Arc4LG6bKCcx"
      }
    },
    {
      "cell_type": "code",
      "source": [
        "def calculate_stats(numbers):\n",
        "    total = sum(numbers)\n",
        "    count = len(numbers)\n",
        "    average = total / count\n",
        "    return total, count, average  # Return as a tuple\n",
        "\n",
        "stats = calculate_stats([1, 2, 3, 4, 5])\n",
        "print(stats)  # Output: (15, 5, 3.0)\n"
      ],
      "metadata": {
        "colab": {
          "base_uri": "https://localhost:8080/"
        },
        "id": "a0tqF7hhKCyY",
        "outputId": "dc62f4e1-f258-488b-e96f-638a10e792db"
      },
      "execution_count": 20,
      "outputs": [
        {
          "output_type": "stream",
          "name": "stdout",
          "text": [
            "(15, 5, 3.0)\n"
          ]
        }
      ]
    },
    {
      "cell_type": "markdown",
      "source": [
        "Using as Dictionary Keys:\n",
        "\n",
        "Use Case: Since tuples are immutable, they can be used as keys in dictionaries, whereas lists cannot.\n",
        "\n"
      ],
      "metadata": {
        "id": "3qb9wHtoKS1h"
      }
    },
    {
      "cell_type": "code",
      "source": [
        "coordinates = {(1, 2): \"A\", (3, 4): \"B\"}  # Tuples as dictionary keys\n",
        "type(coordinates)"
      ],
      "metadata": {
        "colab": {
          "base_uri": "https://localhost:8080/"
        },
        "id": "PROfwBaeKTJW",
        "outputId": "f76a5bf5-8f12-49aa-e104-d78dbb58129d"
      },
      "execution_count": 22,
      "outputs": [
        {
          "output_type": "execute_result",
          "data": {
            "text/plain": [
              "dict"
            ]
          },
          "metadata": {},
          "execution_count": 22
        }
      ]
    },
    {
      "cell_type": "markdown",
      "source": [
        "Removing Duplicates:\n",
        "\n",
        "Use Case: Sets are ideal for removing duplicate values from a list or any collection because they only store unique elements."
      ],
      "metadata": {
        "id": "-f-fBzcAKTgF"
      }
    },
    {
      "cell_type": "code",
      "source": [
        "numbers = [1, 2, 2, 3, 4, 4, 5]\n",
        "unique_numbers = set(numbers)\n",
        "print(unique_numbers)  # Output: {1, 2, 3, 4, 5}\n"
      ],
      "metadata": {
        "colab": {
          "base_uri": "https://localhost:8080/"
        },
        "id": "1ZYsZ74tKTvr",
        "outputId": "d37d85c0-1c2b-4b57-84c5-a8d0df7aef18"
      },
      "execution_count": 23,
      "outputs": [
        {
          "output_type": "stream",
          "name": "stdout",
          "text": [
            "{1, 2, 3, 4, 5}\n"
          ]
        }
      ]
    },
    {
      "cell_type": "markdown",
      "source": [
        "Set Operations (Union, Intersection, Difference):\n",
        "\n",
        "Use Case: Sets can be used for mathematical set operations like union, intersection, and difference, which are useful in various applications, including data analysis and comparing datasets."
      ],
      "metadata": {
        "id": "lZ5bWwLpK13s"
      }
    },
    {
      "cell_type": "code",
      "source": [
        "set_a = {1, 2, 3}\n",
        "set_b = {3, 4, 5}\n",
        "print(set_a.union(set_b))\n",
        "print(set_a.intersection(set_b))\n",
        "print(set_a.difference(set_b))\n"
      ],
      "metadata": {
        "colab": {
          "base_uri": "https://localhost:8080/"
        },
        "id": "Azv0_YYDK3hL",
        "outputId": "27c237fd-0207-4278-9656-9353423ed1f2"
      },
      "execution_count": 24,
      "outputs": [
        {
          "output_type": "stream",
          "name": "stdout",
          "text": [
            "{1, 2, 3, 4, 5}\n",
            "{3}\n",
            "{1, 2}\n"
          ]
        }
      ]
    },
    {
      "cell_type": "markdown",
      "source": [
        "Cross-Reference Lists:\n",
        "\n",
        "Use Case: Sets can be used to cross-reference two lists to find common elements quickly."
      ],
      "metadata": {
        "id": "e7QQXvjULApP"
      }
    },
    {
      "cell_type": "code",
      "source": [
        "list1 = [\"apple\", \"banana\", \"cherry\"]\n",
        "list2 = [\"banana\", \"kiwi\", \"mango\"]\n",
        "common_fruits = set(list1).intersection(set(list2))\n",
        "print(common_fruits)\n"
      ],
      "metadata": {
        "colab": {
          "base_uri": "https://localhost:8080/"
        },
        "id": "REciSCCKLA4-",
        "outputId": "a18d742d-6f7a-4572-ada0-adfebd1237c9"
      },
      "execution_count": 26,
      "outputs": [
        {
          "output_type": "stream",
          "name": "stdout",
          "text": [
            "{'banana'}\n"
          ]
        }
      ]
    },
    {
      "cell_type": "markdown",
      "source": [
        "Keeping Track of Unique Values:\n",
        "\n",
        "Use Case: Sets are often used to keep track of unique values in scenarios where duplicates should be ignored, such as counting unique items or user IDs.\n"
      ],
      "metadata": {
        "id": "8m9YRMwnLBGM"
      }
    },
    {
      "cell_type": "code",
      "source": [
        "visit_log = {\"user1\", \"user2\", \"user3\", \"user1\"}\n",
        "print(len(visit_log))\n"
      ],
      "metadata": {
        "colab": {
          "base_uri": "https://localhost:8080/"
        },
        "id": "1whXm1zhLVV4",
        "outputId": "3022fcc8-ed15-4306-d161-3bb642ed0fe3"
      },
      "execution_count": 27,
      "outputs": [
        {
          "output_type": "stream",
          "name": "stdout",
          "text": [
            "3\n"
          ]
        }
      ]
    },
    {
      "cell_type": "markdown",
      "source": [
        "Question 7.) Describe how to added modifying and delete items in a dictionary with examples ?"
      ],
      "metadata": {
        "id": "Bv9QTKxYJZDv"
      }
    },
    {
      "cell_type": "markdown",
      "source": [
        "In Python, dictionaries are versatile data structures that store key-value pairs. They are mutable, meaning you can add, modify, and delete items dynamically. Here’s how to perform these operations with examples:\n",
        "\n",
        "1. Adding Items to a Dictionary\n",
        "\n",
        "You can add items to a dictionary by assigning a value to a new key or using the update() method. Using Assignment"
      ],
      "metadata": {
        "id": "6r3hkNtJKz3Q"
      }
    },
    {
      "cell_type": "code",
      "source": [
        "my_dict = {'name': 'Alice', 'age': 30}\n",
        "my_dict['city'] = 'New York'  # Adding a new key-value pair\n",
        "print(my_dict)\n",
        "\n"
      ],
      "metadata": {
        "colab": {
          "base_uri": "https://localhost:8080/"
        },
        "id": "iKKNO23lLhUb",
        "outputId": "f891e3f0-01a9-4dfb-f8a3-507f553c876b"
      },
      "execution_count": 29,
      "outputs": [
        {
          "output_type": "stream",
          "name": "stdout",
          "text": [
            "{'name': 'Alice', 'age': 30, 'city': 'New York'}\n"
          ]
        }
      ]
    },
    {
      "cell_type": "code",
      "source": [
        "\n",
        "# Using update() Method\n",
        "my_dict = {'name': 'Ritik', 'age': 310}\n",
        "my_dict.update({'country': 'india', 'job': 'business analyst'})  # Adding multiple key-value pairs\n",
        "print(my_dict)\n",
        "\n",
        "\n"
      ],
      "metadata": {
        "colab": {
          "base_uri": "https://localhost:8080/"
        },
        "id": "ItWCKjzhLpTW",
        "outputId": "b6c217ed-96f0-466e-a53d-74e36f13bf51"
      },
      "execution_count": 33,
      "outputs": [
        {
          "output_type": "stream",
          "name": "stdout",
          "text": [
            "{'name': 'Ritik', 'age': 310, 'country': 'india', 'job': 'business analyst'}\n"
          ]
        }
      ]
    },
    {
      "cell_type": "markdown",
      "source": [
        "2. Modifying Items in a Dictionary\n",
        "\n",
        "You can modify the value associated with a specific key by assigning a new value to that key.\n",
        "\n",
        "Modifying an Existing Value"
      ],
      "metadata": {
        "id": "kgDcW0ooL3NS"
      }
    },
    {
      "cell_type": "code",
      "source": [
        "my_dict = {'name': 'Ritik', 'age': 30}\n",
        "my_dict['age'] = 31  # Modifying the value of an existing key\n",
        "print(my_dict)\n",
        "\n",
        "#\n",
        "my_dict = {'name': 'Ritik', 'age': 22}\n",
        "my_dict.update({'age': 31, 'city': 'Faridabad'})  # Modifying and adding a new key-value pair\n",
        "print(my_dict)\n",
        "\n",
        "\n"
      ],
      "metadata": {
        "colab": {
          "base_uri": "https://localhost:8080/"
        },
        "id": "vIxhTEWHL3pC",
        "outputId": "6304cf76-7944-4e11-ff90-30db716c6a77"
      },
      "execution_count": 37,
      "outputs": [
        {
          "output_type": "stream",
          "name": "stdout",
          "text": [
            "{'name': 'Ritik', 'age': 31}\n",
            "{'name': 'Ritik', 'age': 31, 'city': 'Faridabad'}\n"
          ]
        }
      ]
    },
    {
      "cell_type": "markdown",
      "source": [
        "3. Deleting Items from a Dictionary\n",
        "\n",
        "You can delete items from a dictionary using the del statement, the pop() method, or the popitem() method.\n",
        "\n",
        "Using del Statement"
      ],
      "metadata": {
        "id": "QRI2HaNeL31Z"
      }
    },
    {
      "cell_type": "code",
      "source": [
        "my_dict = {'name': 'Ritik', 'age': 30, 'city': 'Faridabad'}\n",
        "del my_dict['city']  # Deleting a key-value pair\n",
        "print(my_dict)"
      ],
      "metadata": {
        "colab": {
          "base_uri": "https://localhost:8080/"
        },
        "id": "EC7CbaugL4DL",
        "outputId": "9c48bbef-a848-4eb6-dd93-d36495c1b906"
      },
      "execution_count": 39,
      "outputs": [
        {
          "output_type": "stream",
          "name": "stdout",
          "text": [
            "{'name': 'Ritik', 'age': 30}\n"
          ]
        }
      ]
    },
    {
      "cell_type": "markdown",
      "source": [
        "Using pop() Method"
      ],
      "metadata": {
        "id": "IH79nnUeL4VH"
      }
    },
    {
      "cell_type": "code",
      "source": [
        "my_dict = {'name': 'Ritik', 'age': 21, 'city': 'Faridabad'}\n",
        "age = my_dict.pop('age')  # Removing a key and returning its value\n",
        "print(my_dict)\n",
        "print(age)\n"
      ],
      "metadata": {
        "colab": {
          "base_uri": "https://localhost:8080/"
        },
        "id": "tyrvFEAML4g1",
        "outputId": "2d7c6a70-03f3-4770-8fd2-9c66991ee384"
      },
      "execution_count": 40,
      "outputs": [
        {
          "output_type": "stream",
          "name": "stdout",
          "text": [
            "{'name': 'Ritik', 'city': 'Faridabad'}\n",
            "21\n"
          ]
        }
      ]
    },
    {
      "cell_type": "markdown",
      "source": [
        "Using popitem() Method"
      ],
      "metadata": {
        "id": "0_zzdbQFOJgp"
      }
    },
    {
      "cell_type": "code",
      "source": [
        "my_dict = {'name': 'Ritik', 'age': 21, 'city': 'New delhi'}\n",
        "last_item = my_dict.popitem()  # Removing the last inserted key-value pair\n",
        "print(my_dict)\n",
        "print(last_item)"
      ],
      "metadata": {
        "colab": {
          "base_uri": "https://localhost:8080/"
        },
        "id": "KAZiZYrmOJtn",
        "outputId": "9a3c1526-fe3d-4353-ce67-49c3ea1be997"
      },
      "execution_count": 41,
      "outputs": [
        {
          "output_type": "stream",
          "name": "stdout",
          "text": [
            "{'name': 'Ritik', 'age': 21}\n",
            "('city', 'New delhi')\n"
          ]
        }
      ]
    },
    {
      "cell_type": "markdown",
      "source": [
        "Question 8.)  Discuss the importance of dictionary keys being immutable and provide examples ?\n"
      ],
      "metadata": {
        "id": "ZwuWvhIpJZM6"
      }
    },
    {
      "cell_type": "code",
      "source": [
        "# In Python, dictionary keys must be immutable data types. This immutability is crucial for maintaining the integrity and performance of dictionaries. Here’s a discussion on the importance of dictionary keys being immutable, along with examples:\n",
        "\n",
        "# Ensuring Uniqueness\n",
        "# Importance: Immutable keys ensure that each key in a dictionary remains constant and unique. If a key could change, it would lead to ambiguity and difficulty in accessing values.\n",
        "\n",
        "\n",
        "[ ]\n",
        "# Using immutable keys (strings)\n",
        "my_dict = {'name': 'Alice', 'age': 30}\n",
        "\n",
        "# Attempting to change a key (which is not allowed)\n",
        "# my_dict['name'] = 'Bob'  # Allowed because we're changing the value, not the key\n",
        "\n",
        "# If we allowed mutable types (like lists) as keys, the dictionary could not guarantee that the key would remain unique\n",
        "\n",
        "# Improving Performance\n",
        "# Importance: Dictionaries are implemented using hash tables. The immutability of keys allows the hash value to remain constant. This ensures that dictionary lookups, insertions, and deletions are efficient (average O(1) time complexity).\n",
        "\n",
        "\n",
        "[ ]\n",
        "# Using a tuple as a key (which is immutable)\n",
        "my_dict = { (1, 2): 'Point A', (3, 4): 'Point B' }\n",
        "\n",
        "# Efficiently accessing a value using the immutable key\n",
        "print(my_dict[(1, 2)])  # Output: Point A\n",
        "\n",
        "# If the keys were mutable, their hash values could change, making it impossible for the dictionary to locate the associated values efficiently.\n",
        "\n",
        "# Maintaining Data Integrity\n",
        "# Importance: Immutability ensures that keys remain unchanged, which is essential for maintaining the integrity of data associations. If keys could be modified, it would lead to unpredictable behavior and errors in data retrieval.\n",
        "\n",
        "\n",
        "[ ]\n",
        "# Using tuples as keys\n",
        "my_dict = { (1, 2): 'Coordinates A', (3, 4): 'Coordinates B' }\n",
        "\n",
        "# The tuple key remains unchanged\n",
        "print(my_dict[(1, 2)])  # Output: Coordinates A\n",
        "\n",
        "# If tuples were mutable, changing a value in the tuple would affect the key\n",
        "# my_dict[(1, 2)[0]] = 5  # This would lead to issues as the key could change\n",
        "\n",
        "# Preventing Logical Errors\n",
        "# Importance: Allowing mutable objects as keys could lead to logical errors in programs, making it difficult to debug or maintain the code. With immutable keys, the behavior of dictionaries is predictable.\n",
        "\n",
        "\n",
        "[ ]\n",
        "# Example with a mutable key (list) - Not allowed\n",
        "# my_dict = {[1, 2]: 'List as Key'}  # Raises a TypeError\n",
        "\n",
        "# Using an immutable key instead\n",
        "my_dict = {(1, 2): 'Tuple as Key'}\n",
        "print(my_dict[(1, 2)])  # Output: Tuple as Key\n",
        "\n",
        "#Flexibility with Immutable Types\n",
        "#Importance: While only immutable types can be used as dictionary keys, Python supports several built-in immutable types, such as:\n",
        "\n",
        "# Strings Tuples Integers Floats This flexibility allows developers to choose appropriate key types based on their use case.\n",
        "\n",
        "# Using different immutable key types\n",
        "my_dict = {\n",
        "    'name': 'Alice',      # String key\n",
        "    (1, 2): 'Point A',    # Tuple key\n",
        "    42: 'The Answer'      # Integer key\n",
        "}\n",
        "print(my_dict)  # Output: {'name': 'Alice', (1, 2): 'Point A', 42: 'The Answer'}\n",
        "\n"
      ],
      "metadata": {
        "colab": {
          "base_uri": "https://localhost:8080/"
        },
        "id": "WpvUyQEZL1Ug",
        "outputId": "176294f1-5fd0-4502-fc04-10769ef0e123"
      },
      "execution_count": 42,
      "outputs": [
        {
          "output_type": "stream",
          "name": "stdout",
          "text": [
            "Point A\n",
            "Coordinates A\n",
            "Tuple as Key\n",
            "{'name': 'Alice', (1, 2): 'Point A', 42: 'The Answer'}\n"
          ]
        }
      ]
    }
  ]
}