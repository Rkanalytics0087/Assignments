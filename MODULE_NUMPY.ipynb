{
  "nbformat": 4,
  "nbformat_minor": 0,
  "metadata": {
    "colab": {
      "provenance": []
    },
    "kernelspec": {
      "name": "python3",
      "display_name": "Python 3"
    },
    "language_info": {
      "name": "python"
    }
  },
  "cells": [
    {
      "cell_type": "code",
      "execution_count": null,
      "metadata": {
        "id": "ByqOE6A7gKYm"
      },
      "outputs": [],
      "source": []
    },
    {
      "cell_type": "markdown",
      "source": [
        "# **Theory part I**"
      ],
      "metadata": {
        "id": "-Zovk6kLgMP1"
      }
    },
    {
      "cell_type": "markdown",
      "source": [],
      "metadata": {
        "id": "t5rOi01O4Qcp"
      }
    },
    {
      "cell_type": "markdown",
      "source": [
        "# Question 1.\n",
        "Explain the purpose and advantages of NumPy in scientific computing and data analysis. How does it enhance Python's capabilities for numerical operations?"
      ],
      "metadata": {
        "id": "_ysCtZyh4Qh6"
      }
    },
    {
      "cell_type": "markdown",
      "source": [
        "#Answer 1.\n",
        "NumPy (Numerical Python) is a fundamental library for scientific computing and data analysis in Python. Its core strength lies in providing efficient support for large, multi-dimensional arrays and matrices, along with a vast collection of high-level mathematical functions to operate on these arrays. This significantly enhances Python's capabilities for numerical operations in several key ways:\n",
        "\n",
        "Purpose:\n",
        "\n",
        "Efficient Array Operations: NumPy's primary purpose is to provide a powerful N-dimensional array object (ndarray). Unlike Python's built-in lists, NumPy arrays are homogeneous (elements of the same data type) and stored contiguously in memory. This contiguous storage and type homogeneity enable highly optimized operations, making NumPy significantly faster for numerical computations compared to standard Python lists, especially for large datasets.\n",
        "\n",
        "Mathematical and Logical Operations: NumPy offers a comprehensive suite of mathematical functions (linear algebra, Fourier transforms, random number generation, etc.) that can be directly applied to entire arrays without the need for explicit loops. This vectorized approach greatly simplifies code and accelerates computations.\n",
        "\n",
        "Broadcasting: NumPy's broadcasting rules allow for arithmetic operations between arrays of different shapes under certain conditions, automatically expanding the smaller array to match the larger one. This eliminates the need for manual reshaping and significantly simplifies code.\n",
        "\n",
        "Integration with Other Libraries: NumPy serves as a foundation for numerous other scientific computing libraries in Python (e.g., SciPy, Pandas, Matplotlib, scikit-learn). Its array object is often the underlying data structure for these libraries, enabling seamless data exchange and interoperability.\n",
        "\n",
        "Advantages:\n",
        "\n",
        "Performance: The core advantage is speed. NumPy's highly optimized C implementation provides substantial performance improvements over pure Python, especially for numerical operations.\n",
        "Memory Efficiency: NumPy's homogeneous arrays are more memory-efficient than Python lists, which can store objects of different data types.\n",
        "Ease of Use: The vectorized operations and broadcasting greatly simplify numerical computations, making code more concise and readable.\n",
        "Versatility: NumPy supports various data types and allows for sophisticated array manipulations.\n",
        "How it enhances Python:\n",
        "\n",
        "Python, on its own, is a powerful general-purpose language but lacks efficient built-in mechanisms for numerical computation on large datasets. NumPy bridges this gap by providing specialized data structures and functions for numerical analysis. This makes Python a viable and often preferred language for scientific computing and data analysis, competing effectively with languages like MATLAB and R. NumPy's integration into the broader Python ecosystem expands Python's capabilities well beyond its original design, making it a go-to language for a wide range of scientific and data-related tasks."
      ],
      "metadata": {
        "id": "fE9bStP74c2n"
      }
    },
    {
      "cell_type": "markdown",
      "source": [
        "# Question 2.\n",
        "Compare and contrast np.mean() and np.average() functions in NumPy. When would you use one over the other?"
      ],
      "metadata": {
        "id": "p96r1g2r4l6l"
      }
    },
    {
      "cell_type": "markdown",
      "source": [
        "# Answer 2\n",
        "\n",
        "**Purpose and Advantages of NumPy in Scientific Computing and Data\n",
        " Analysis**\n",
        "**Efficient Array Handling:**\n",
        "\n",
        "NumPy provides an ndarray (n-dimensional array) data structure specifically designed for numerical data, which is more efficient in memory usage and performance than Python lists.\n",
        "This structure allows scientists and analysts to handle large datasets more effectively.\n",
        "High-Speed Computation:\n",
        "\n",
        "NumPy is built for fast computations with optimized C-based functions, making it significantly faster than native Python for mathematical operations.\n",
        "It is particularly useful for tasks that involve large amounts of data, such as in scientific simulations and big data processing.\n",
        "Vectorized Operations:\n",
        "\n",
        "In NumPy, operations can be applied to entire arrays at once, known as \"vectorization.\" This removes the need for explicit loops, making code cleaner and more efficient.\n",
        "For example, adding two arrays in NumPy (a + b) is far more efficient than looping through elements in Python lists.\n",
        "Broadcasting:\n",
        "\n",
        "Broadcasting allows NumPy to perform operations on arrays of different shapes (dimensions) without manually reshaping them, which simplifies operations on data of varying dimensions.\n",
        "This feature is useful in fields such as machine learning, where data manipulation is frequent.\n",
        "Foundation for Other Libraries:\n",
        "\n",
        "Many scientific and data analysis libraries in Python, such as SciPy, pandas, and scikit-learn, are built on top of NumPy.\n",
        "This compatibility makes it easier to work across these libraries without needing data conversions.\n",
        "Enhancing Python’s Capabilities for Numerical Operations\n",
        "\n",
        "Speed and Memory Efficiency:\n",
        "NumPy’s arrays are stored in contiguous memory blocks and are typed, leading to less\n",
        "\n",
        "\n",
        "\n"
      ],
      "metadata": {
        "id": "GVXLmzhq4u3L"
      }
    },
    {
      "cell_type": "markdown",
      "source": [
        "#Question 3.\n",
        "Describe the methods for reversing a NumPy array along different axes. Provide examples for 1D and 2D arrays?"
      ],
      "metadata": {
        "id": "xDd0QbyG4l-F"
      }
    },
    {
      "cell_type": "markdown",
      "source": [
        "#Answer 3.\n",
        "import numpy as np\n",
        "\n",
        "## Reversing a NumPy array\n",
        "###Method 1: Using slicing\n",
        "This is the most concise and efficient way to reverse an array.\n",
        "For 1D arrays:\n",
        "arr_1d = np.array([1, 2, 3, 4, 5]) reversed_arr_1d = arr_1d[::-1] print(\"Original 1D array:\", arr_1d) print(\"Reversed 1D array (slicing):\", reversed_arr_1d)\n",
        "\n",
        "For 2D arrays:\n",
        "arr_2d = np.array([[1, 2, 3], [4, 5, 6], [7, 8, 9]]) reversed_arr_2d_axis0 = arr_2d[::-1, :] # Reverses along axis 0 (rows) reversed_arr_2d_axis1 = arr_2d[:, ::-1] # Reverses along axis 1 (columns)\n",
        "\n",
        "print(\"\\nOriginal 2D array:\") print(arr_2d) print(\"\\nReversed 2D array (axis 0):\") print(reversed_arr_2d_axis0) print(\"\\nReversed 2D array (axis 1):\") print(reversed_arr_2d_axis1)\n",
        "\n",
        "\n",
        "\n",
        "###Method 2: Using flip() function\n",
        "np.flip() is more general and allows reversing along specific axes.\n",
        "reversed_arr_1d_flip = np.flip(arr_1d) print(\"\\nReversed 1D array (flip):\", reversed_arr_1d_flip)\n",
        "\n",
        "reversed_arr_2d_flip_axis0 = np.flip(arr_2d, axis=0) # Reverses rows reversed_arr_2d_flip_axis1 = np.flip(arr_2d, axis=1) # Reverses columns\n",
        "\n",
        "print(\"\\nReversed 2D array (flip, axis 0):\") print(reversed_arr_2d_flip_axis0) print(\"\\nReversed 2D array (flip, axis 1):\") print(reversed_arr_2d_flip_axis1)\n",
        "\n",
        "\n",
        "\n",
        "###Method 3: Using flipud() and fliplr() functions (for 2D only)\n",
        "These are specialized functions for reversing rows (flipud) and columns (fliplr)\n",
        "reversed_arr_2d_flipud = np.flipud(arr_2d) # Reverses rows reversed_arr_2d_fliplr = np.fliplr(arr_2d) # Reverses columns\n",
        "\n",
        "print(\"\\nReversed 2D array (flipud):\") print(reversed_arr_2d_flipud) print(\"\\nReversed 2D array (fliplr):\") reversed_arr_2d_fliplr"
      ],
      "metadata": {
        "id": "2_Y44ta15FNn"
      }
    },
    {
      "cell_type": "markdown",
      "source": [
        "#Question 4.\n",
        "How can you determine the data type of elements in a NumPy array? Discuss the importance of data types in memory management and performance?"
      ],
      "metadata": {
        "id": "S6yv_JRb5eh4"
      }
    },
    {
      "cell_type": "markdown",
      "source": [
        "\n",
        "#Answer 4\n",
        "import numpy as np\n",
        "\n",
        "### Create a NumPy array with different data types\n",
        "arr = np.array([1, 2, 3, 4.5, 6.7])\n",
        "\n",
        "### Check the data type of the array\n",
        "print(arr.dtype)  # Output: float64\n",
        "\n",
        "### Access the data type of elements\n",
        "print(arr[0].dtype)  # Output: float64\n",
        "\n",
        "### Create arrays with specific data types:\n",
        "int_arr = np.array([1, 2, 3], dtype=np.int32)\n",
        "float_arr = np.array([1.0, 2.0, 3.0], dtype=np.float64)\n",
        "bool_arr = np.array([True, False, True], dtype=bool)\n",
        "\n",
        "print(int_arr.dtype)  # Output: int32\n",
        "print(float_arr.dtype) # Output: float64\n",
        "print(bool_arr.dtype) # Output: bool\n",
        "\n",
        "\n",
        "# Importance of data types:\n",
        "\n",
        "#1. Memory Management:\n",
        "#####   - Data types determine the amount of memory allocated for each element in an array.\n",
        "#####   - Using the correct data type can significantly reduce memory usage, especially for large arrays.\n",
        "##### there's no reason to store them in 32 or 64-bit format.\n",
        "\n",
        "#2. Performance:\n",
        "#####   - Data types influence the speed of arithmetic operations and other computations.\n",
        "#####   - Operations on arrays with compatible data types are generally faster than those that require type conversion.\n",
        "##### Numerical operations are optimized for specific data types, meaning calculations with matching data types usually run faster, since no type coercion is required.\n",
        "\n",
        "\n",
        "#3. Type Safety\n",
        " Specifying the data type helps prevent unexpected behavior from type coercion or implicit casting which can lead to errors or incorrect results.\n",
        "\n",
        "\n",
        "# Example of memory efficiency:\n",
        "\n",
        "Storing 10 million small integers in an int8 array (8 bits) vs. a int64 array (64 bits):\n",
        "\n",
        "int8: 10,000,000 elements * 1 byte/element = 10 MB\n",
        "int64: 10,000,000 elements * 8 bytes/element = 80 MB\n",
        "\n",
        "#### An int8 array would require considerably less memory."
      ],
      "metadata": {
        "id": "810znt1d5en2"
      }
    },
    {
      "cell_type": "markdown",
      "source": [
        "#Question 5.\n",
        "Question 5.Define ndarrays in NumPy and explain their key features. How do they differ from standard Python lists?"
      ],
      "metadata": {
        "id": "c086uVQQ62Xc"
      }
    },
    {
      "cell_type": "markdown",
      "source": [
        "# Answer 5.\n",
        "\n",
        "import numpy as np\n",
        "\n",
        "## Define ndarrays\n",
        "### 1D array\n",
        "arr1 = np.array([1, 2, 3, 4, 5])\n",
        "print(\"1D Array:\\n\", arr1)\n",
        "\n",
        "### 2D array\n",
        "arr2 = np.array([[1, 2, 3], [4, 5, 6]])\n",
        "print(\"\\n2D Array:\\n\", arr2)\n",
        "\n",
        "### 3D array\n",
        "arr3 = np.array([[[1, 2], [3, 4]], [[5, 6], [7, 8]]])\n",
        "print(\"\\n3D Array:\\n\", arr3)\n",
        "\n",
        "# features of ndarrays:\n",
        "\n",
        " 1. Homogeneous Data Type:  All elements in an ndarray must be of the same data type.\n",
        " This is a crucial difference from Python lists, which can contain elements of different types.\n",
        "\n",
        " 2. Fixed Size at Creation:  The size of an ndarray is fixed when it is created.  Unlike lists,\n",
        "   you can't dynamically append or remove elements without creating a new array.\n",
        "\n",
        "3. Efficient Vectorized Operations: NumPy provides efficient vectorized operations.\n",
        "   You can perform operations on entire arrays without explicit looping. This is much faster than\n",
        "  iterating through a list element by element.  \n",
        "\n",
        " Example of vectorized operation:\n",
        "print(\"\\nAdding 2 to each element of arr1:\")\n",
        "print(arr1 + 2)\n",
        "\n",
        "\n",
        "# 4. Broadcasting:\n",
        "NumPy allows operations between arrays of different shapes under certain conditions.\n",
        "    This is known as broadcasting and avoids unnecessary memory copies.\n",
        "\n",
        " Example of broadcasting:\n",
        "print(\"\\nMultiplying arr1 by a scalar:\")\n",
        "arr1 * 3\n",
        "\n",
        "# 5. Memory Efficiency: NumPy arrays are more memory-efficient than lists because they store elements of the same data type in a contiguous block of memory.\n",
        "\n",
        "\n",
        "# Differences from Python lists:\n",
        "\n",
        "\n",
        " **Homogeneity**: Lists can hold elements of different types (integers, strings, other lists, etc.), while ndarrays are homogeneous.\n",
        "\n",
        "**Performance:**  NumPy's vectorized operations significantly outperform equivalent loops in Python lists.\n",
        "\n",
        "**Memory Usage:** Ndarray's contiguous memory layout makes them generally more memory-efficient.\n",
        "\n",
        "**Functionality:**  Ndarray's have built in vectorized mathematical operations, linear algebra, random number generation, Fourier transforms, etc."
      ],
      "metadata": {
        "id": "ayeVAJt85eun"
      }
    },
    {
      "cell_type": "markdown",
      "source": [
        "# Question 6.\n",
        "Analyze the performance benefits of NumPy arrays over Python lists for large-scale numerical operations.?"
      ],
      "metadata": {
        "id": "aPeToUV46-sU"
      }
    },
    {
      "cell_type": "markdown",
      "source": [
        "# Answer 6\n",
        "import numpy as np import time\n",
        "\n",
        "Python lists\n",
        "size = 1000000 list1 = list(range(size)) list2 = list(range(size))\n",
        "\n",
        "start_time = time.time() result_list = [x * y for x, y in zip(list1, list2)] end_time = time.time() print(\"Python list time:\", end_time - start_time)\n",
        "\n",
        "NumPy arrays\n",
        "array1 = np.arange(size) array2 = np.arange(size)\n",
        "\n",
        "start_time = time.time() result_array = array1 * array2 end_time = time.time() print(\"NumPy array time:\", end_time - start_time)"
      ],
      "metadata": {
        "id": "K3XSiZvm6-5E"
      }
    },
    {
      "cell_type": "markdown",
      "source": [
        "# Question 7.\n",
        "Compare vstack) and hstack) functions in NumPy. Provide examples demonstrating their usage and output?\n",
        "\n",
        "#Answer 7\n",
        "\n",
        "import numpy as np\n",
        "\n",
        "Create two sample arrays\n",
        "array1 = np.array([[1, 2], [3, 4]]) array2 = np.array([[5, 6], [7, 8]])\n",
        "\n",
        "Vertical stacking (vstack)\n",
        "vertical_stack = np.vstack((array1, array2)) print(\"Vertical Stack:\\n\", vertical_stack)\n",
        "\n",
        "Horizontal stacking (hstack)\n",
        "horizontal_stack = np.hstack((array1, array2)) print(\"\\nHorizontal Stack:\\n\", horizontal_stack)\n",
        "\n",
        "Example with arrays of different shapes (vstack)\n",
        "array3 = np.array([9, 10]) vstack_diff_shape = np.vstack((array1, array3)) print(\"\\nVertical Stack (different shapes):\\n\", vstack_diff_shape)\n",
        "\n",
        "Example with arrays of different shapes (hstack) - will result in an error if the number of rows don't match\n",
        "Uncomment to see the error\n",
        "array4 = np.array([[11], [12]])\n",
        "hstack_diff_shape = np.hstack((array1, array4)) # This will raise an error\n",
        "print(\"\\nHorizontal Stack (different shapes):\\n\", hstack_diff_shape)\n",
        "Demonstrating potential error when using hstack with incompatible shapes\n",
        "try: array4 = np.array([[11], [12]]) hstack_diff_shape = np.hstack((array1, array4)) print(\"\\nHorizontal Stack (different shapes):\\n\", hstack_diff_shape) except ValueError as e: print(f\"\\nError: {e}\") print(\"hstack requires arrays to have the same number of rows.\")"
      ],
      "metadata": {
        "id": "YyB8En8P6-8l"
      }
    },
    {
      "cell_type": "markdown",
      "source": [
        "#Question 8.\n",
        "Explain the differences between flipir) and flipud) methods in NumPy, including their effects on various arrays dimensions?\n",
        "\n",
        "# Answer 8.\n",
        "\n",
        "import numpy as np\n",
        "\n",
        "Sample arrays\n",
        "arr_1d = np.array([1, 2, 3, 4, 5]) arr_2d = np.array([[1, 2, 3], [4, 5, 6]]) arr_3d = np.array([[[1, 2], [3, 4]], [[5, 6], [7, 8]]])\n",
        "\n",
        "np.flip(arr, axis=None)\n",
        "Reverses the order of elements in an array along the given axis.\n",
        "If axis is not specified, the array is flattened before reversing.\n",
        "print(\"Original 1D array:\", arr_1d) print(\"Flipped 1D array:\", np.flip(arr_1d)) # Reverses the entire array\n",
        "\n",
        "print(\"\\nOriginal 2D array:\\n\", arr_2d) print(\"Flipped 2D array (axis=0):\\n\", np.flip(arr_2d, axis=0)) # Reverses rows print(\"Flipped 2D array (axis=1):\\n\", np.flip(arr_2d, axis=1)) # Reverses columns print(\"Flipped 2D array (no axis):\\n\", np.flip(arr_2d)) #Flattens then reverses\n",
        "\n",
        "print(\"\\nOriginal 3D array:\\n\", arr_3d) print(\"Flipped 3D array (axis=0):\\n\", np.flip(arr_3d, axis=0)) # Reverses the order of the \"matrices\" print(\"Flipped 3D array (axis=1):\\n\", np.flip(arr_3d, axis=1)) # Reverses the order of the rows within each matrix print(\"Flipped 3D array (axis=2):\\n\", np.flip(arr_3d, axis=2)) # Reverses elements within each row of every matrix\n",
        "\n",
        "np.flipud(arr)\n",
        "Flips the array in the up/down direction. Equivalent to np.flip(arr, axis=0).\n",
        "Only works on 1D and 2D arrays, for higher dimensions use np.flip(arr, axis=0)\n",
        "print(\"\\nOriginal 1D array:\", arr_1d) print(\"Flipped 1D array (flipud):\", np.flipud(arr_1d)) #Equivalent to np.flip(arr_1d)\n",
        "\n",
        "print(\"\\nOriginal 2D array:\\n\", arr_2d) print(\"Flipped 2D array (flipud):\\n\", np.flipud(arr_2d)) #Equivalent to np.flip(arr_2d, axis=0)\n",
        "\n",
        "For 3D arrays and higher dimensions, np.flipud is not defined, use np.flip(arr, axis=0)"
      ],
      "metadata": {
        "id": "bzVIVT0H6_LX"
      }
    },
    {
      "cell_type": "markdown",
      "source": [
        "#Question 9.\n",
        "Discuss the functionality of the array _split ) method in NumPy. How does it handle uneven splits?\n",
        "\n",
        "# Answer 9.\n",
        "\n",
        "import numpy as np\n",
        "\n",
        "arr = np.arange(10)\n",
        "\n",
        "This will raise a ValueError because 10 is not divisible by 3\n",
        "try:\n",
        "np.split(arr, 3)\n",
        "except ValueError as e:\n",
        "print(\"ValueError:\", e)\n",
        "Correct way to split into unequal sizes (demonstrates using array_split)\n",
        "sub_arrays = np.array_split(arr, 3) sub_arrays"
      ],
      "metadata": {
        "id": "IXlJgA0Q6_Vu"
      }
    },
    {
      "cell_type": "markdown",
      "source": [
        "# Question 10..\n",
        "Explain the concepts of vectorization and broadcasting in NumPy. How do they contribute to efficient array operations?\n",
        "\n",
        "# Answer 10.\n",
        "\n",
        "Import NumPy\n",
        "import numpy as np\n",
        "\n",
        "Vectorization\n",
        "Vectorization in NumPy allows you to perform operations on entire arrays\n",
        "without explicit looping. NumPy's universal functions (ufuncs) are designed\n",
        "for this purpose. They operate element-wise on arrays, significantly speeding\n",
        "up calculations compared to explicit Python loops.\n",
        "Example:\n",
        "arr1 = np.array([1, 2, 3]) arr2 = np.array([4, 5, 6])\n",
        "\n",
        "Element-wise addition using vectorization\n",
        "result = arr1 + arr2 print(\"Vectorized addition:\", result)\n",
        "\n",
        "Equivalent loop (less efficient):\n",
        "result_loop = []\n",
        "for i in range(len(arr1)):\n",
        "result_loop.append(arr1[i] + arr2[i])\n",
        "print(result_loop)\n",
        "Broadcasting\n",
        "Broadcasting extends the ability of ufuncs to operate on arrays of different\n",
        "shapes and sizes. Under certain conditions, NumPy automatically expands the\n",
        "smaller array to match the shape of the larger array, enabling element-wise\n",
        "operations without creating copies.\n",
        "Rules of Broadcasting:\n",
        "1. If the arrays have different numbers of dimensions, the smaller array's\n",
        "shape is padded with 1s on its left side until it has the same number of\n",
        "dimensions as the larger array.\n",
        "2. If the arrays have the same number of dimensions, but the sizes of their\n",
        "corresponding dimensions don't match, NumPy compares the sizes of the\n",
        "dimensions from right to left.\n",
        "3. If the sizes of a dimension are equal or one of them is 1, the arrays\n",
        "are compatible along that dimension.\n",
        "4. If the sizes of a dimension don't match and neither of them is 1, an error\n",
        "is raised.\n",
        "Example:\n",
        "arr3 = np.array([1, 2, 3]) # Shape (3,) arr4 = 5 # Scalar - Treated as an array with shape (1,) which is then broadcasted to (3,)\n",
        "\n",
        "result_broadcasting = arr3 + arr4 print(\"Broadcasting:\", result_broadcasting)\n",
        "\n",
        "arr5 = np.array([[1, 2, 3], [4, 5, 6]]) # Shape (2, 3) arr6 = np.array([10, 20, 30]) # Shape (3,) - broadcasted to (2, 3)\n",
        "\n",
        "result = arr5 + arr6 print(\"Broadcasting 2:\", result)\n",
        "\n",
        "Efficiency:\n",
        "Vectorization and broadcasting minimize the number of Python loops needed to\n",
        "perform operations, relying on highly optimized C code. This drastically\n",
        "reduces overhead and significantly improves performance, especially with\n",
        "larger arrays. Avoiding explicit loops is crucial for numerical computation\n",
        "with NumPy."
      ],
      "metadata": {
        "id": "gLtMio7O8XU6"
      }
    },
    {
      "cell_type": "markdown",
      "source": [
        "# **Pratical part II**"
      ],
      "metadata": {
        "id": "9SQuKxvu3jPh"
      }
    },
    {
      "cell_type": "markdown",
      "source": [
        "# **Question 1.)**\n",
        "Create a 3x3 NumPy array with random integers between 1 and 100. Then, interchange its rows and columns ?"
      ],
      "metadata": {
        "id": "gcvEVF7PgY82"
      }
    },
    {
      "cell_type": "markdown",
      "source": [
        "# Answer 1\n",
        " # Step-by-Step Guide\n",
        "**Import NumPy:** Ensure you have NumPy imported.\n",
        "\n",
        "**Create the Array:** Use np.random.randint to generate random integers.\n",
        "\n",
        "**Transpose the Array:** Use the .T attribute to transpose the array."
      ],
      "metadata": {
        "id": "Zb1lZht9kefB"
      }
    },
    {
      "cell_type": "code",
      "source": [
        "import numpy as np\n",
        "\n",
        "# Create a 3x3 NumPy array with random integers between 1 and 100\n",
        "array = np.random.randint(1, 101, size=(3, 3))\n",
        "print(\"Original Array:\")\n",
        "print(array)\n",
        "\n",
        "# Interchange its rows and columns (transpose the array)\n",
        "transposed_array = array.T\n",
        "print(\"\\nTransposed Array:\")\n",
        "print(transposed_array)\n"
      ],
      "metadata": {
        "colab": {
          "base_uri": "https://localhost:8080/"
        },
        "id": "q8OuxdJ_gnd8",
        "outputId": "164773b3-f737-41fc-ed38-91a84d966109"
      },
      "execution_count": null,
      "outputs": [
        {
          "output_type": "stream",
          "name": "stdout",
          "text": [
            "Original Array:\n",
            "[[99  1 92]\n",
            " [79  6  6]\n",
            " [65  8 70]]\n",
            "\n",
            "Transposed Array:\n",
            "[[99 79 65]\n",
            " [ 1  6  8]\n",
            " [92  6 70]]\n"
          ]
        }
      ]
    },
    {
      "cell_type": "markdown",
      "source": [
        "#"
      ],
      "metadata": {
        "id": "uYVGKuyyk9Lu"
      }
    },
    {
      "cell_type": "markdown",
      "source": [
        "# Question 2\n",
        "Generate a 1D NumPy array with 10 elements. Reshape it into a 2x5 array, then into a 5x2 array."
      ],
      "metadata": {
        "id": "PvB35Tc2mZyk"
      }
    },
    {
      "cell_type": "markdown",
      "source": [
        "# Answer 2\n",
        "## Step-by-Step Guide\n",
        "\n",
        "**Import NumPy**: Ensure NumPy is imported.\n",
        "\n",
        "**Generate the 1D Array**: Create a 1D array with 10 elements.\n",
        "\n",
        "**Reshape to 2x5 Array**: Use reshape method to convert it to a 2x5 array.\n",
        "\n",
        "**Reshape to 5x2 Array:** Further reshape it into a 5x2 array."
      ],
      "metadata": {
        "id": "JLgCekbNl20U"
      }
    },
    {
      "cell_type": "code",
      "source": [
        "import numpy as np\n",
        "\n",
        "# Generate a 1D NumPy array with 10 elements\n",
        "array_1d = np.arange(10)\n",
        "print(\"1D Array:\")\n",
        "print(array_1d)\n",
        "\n",
        "# Reshape it into a 2x5 array\n",
        "array_2x5 = array_1d.reshape(2, 5)\n",
        "print(\"\\n2x5 Array:\")\n",
        "print(array_2x5)\n",
        "\n",
        "# Reshape it into a 5x2 array\n",
        "array_5x2 = array_2x5.reshape(5, 2)\n",
        "print(\"\\n5x2 Array:\")\n",
        "print(array_5x2)\n"
      ],
      "metadata": {
        "colab": {
          "base_uri": "https://localhost:8080/"
        },
        "id": "an8yW7RGmT6V",
        "outputId": "db503842-9483-4ccb-b2ad-ddfcd6f6c172"
      },
      "execution_count": 2,
      "outputs": [
        {
          "output_type": "stream",
          "name": "stdout",
          "text": [
            "1D Array:\n",
            "[0 1 2 3 4 5 6 7 8 9]\n",
            "\n",
            "2x5 Array:\n",
            "[[0 1 2 3 4]\n",
            " [5 6 7 8 9]]\n",
            "\n",
            "5x2 Array:\n",
            "[[0 1]\n",
            " [2 3]\n",
            " [4 5]\n",
            " [6 7]\n",
            " [8 9]]\n"
          ]
        }
      ]
    },
    {
      "cell_type": "markdown",
      "source": [
        "# Question 3.\n",
        "\n",
        "Create a 4x4 NumPy array with random float values. Add a border of zeros around it, resulting in a 6x6 array."
      ],
      "metadata": {
        "id": "ZMrEonEWmr9F"
      }
    },
    {
      "cell_type": "markdown",
      "source": [
        "# Answer 3\n",
        "# Step-by-Step Guide\n",
        "\n",
        "**Import NumPy:** Ensure NumPy is imported.\n",
        "\n",
        "**Create the 4x4 Array:** Use np.random.rand to generate random float values.\n",
        "\n",
        "**Add a Border of Zeros:** Use np.pad to add the border."
      ],
      "metadata": {
        "id": "PSDr-3IEoFvK"
      }
    },
    {
      "cell_type": "code",
      "source": [
        "import numpy as np\n",
        "\n",
        "# Create a 4x4 NumPy array with random float values\n",
        "array_4x4 = np.random.rand(4, 4)\n",
        "print(\"Original 4x4 Array:\")\n",
        "print(array_4x4)\n",
        "\n",
        "# Add a border of zeros around it, resulting in a 6x6 array\n",
        "array_6x6 = np.pad(array_4x4, pad_width=1, mode='constant', constant_values=0)\n",
        "print(\"\\n6x6 Array with Border of Zeros:\")\n",
        "print(array_6x6)\n"
      ],
      "metadata": {
        "colab": {
          "base_uri": "https://localhost:8080/"
        },
        "id": "689ecvNwmXVf",
        "outputId": "b61619d7-f9fe-4124-db28-184452b5653e"
      },
      "execution_count": 3,
      "outputs": [
        {
          "output_type": "stream",
          "name": "stdout",
          "text": [
            "Original 4x4 Array:\n",
            "[[0.21637065 0.44334207 0.41260513 0.91861207]\n",
            " [0.44024705 0.78930706 0.50014831 0.85522261]\n",
            " [0.30299416 0.34715879 0.29572115 0.40356606]\n",
            " [0.49433111 0.08040318 0.04863566 0.66276371]]\n",
            "\n",
            "6x6 Array with Border of Zeros:\n",
            "[[0.         0.         0.         0.         0.         0.        ]\n",
            " [0.         0.21637065 0.44334207 0.41260513 0.91861207 0.        ]\n",
            " [0.         0.44024705 0.78930706 0.50014831 0.85522261 0.        ]\n",
            " [0.         0.30299416 0.34715879 0.29572115 0.40356606 0.        ]\n",
            " [0.         0.49433111 0.08040318 0.04863566 0.66276371 0.        ]\n",
            " [0.         0.         0.         0.         0.         0.        ]]\n"
          ]
        }
      ]
    },
    {
      "cell_type": "markdown",
      "source": [
        "# Question 4.\n",
        "\n",
        "Using NumPy, create an array of integers from 10 to 60 with a step of 5."
      ],
      "metadata": {
        "id": "-KQS_VXkojX9"
      }
    },
    {
      "cell_type": "markdown",
      "source": [
        "# Answer 4\n",
        "# Step-by-Step Guide\n",
        "\n",
        "1.) Import NumPy:\n",
        "\n",
        "First, you need to ensure that NumPy is imported. This can be done using the import numpy as np statement.\n",
        "\n",
        "2.) Create the Array:\n",
        "\n",
        "Use the np.arange() function to create an array. The arange function generates values within a specified range with a defined step.\n",
        "\n",
        "The syntax for np.arange() is np.arange(start, stop, step), where start is the beginning value, stop is the end value (exclusive), and step is the interval between values."
      ],
      "metadata": {
        "id": "AY_5dX2ApBRd"
      }
    },
    {
      "cell_type": "code",
      "source": [
        "import numpy as np\n",
        "\n",
        "# Create an array of integers from 10 to 60 with a step of 5\n",
        "array = np.arange(10, 65, 5)  # Note: 65 is used to include 60 in the array\n",
        "print(\"Array from 10 to 60 with a step of 5:\")\n",
        "print(array)\n"
      ],
      "metadata": {
        "colab": {
          "base_uri": "https://localhost:8080/"
        },
        "id": "TZVKnQAsodZj",
        "outputId": "7b2b72ed-fe32-4b73-c88a-f6a01debcfe2"
      },
      "execution_count": 4,
      "outputs": [
        {
          "output_type": "stream",
          "name": "stdout",
          "text": [
            "Array from 10 to 60 with a step of 5:\n",
            "[10 15 20 25 30 35 40 45 50 55 60]\n"
          ]
        }
      ]
    },
    {
      "cell_type": "markdown",
      "source": [
        "\n",
        "\n",
        "Importing NumPy: import numpy as np imports the NumPy library and makes it accessible via the alias np.\n",
        "\n",
        "Creating the Array: np.arange(10, 65, 5) generates an array starting from 10, with each subsequent value incremented by 5, up to but not including 65."
      ],
      "metadata": {
        "id": "1UNfEw3gpAoG"
      }
    },
    {
      "cell_type": "markdown",
      "source": [
        "# Question 5.\n",
        "Create a NumPy array of strings ['python', 'numpy', 'pandas']. Apply different case transformations (uppercase, lowercase, title case, etc.) to each element ?\n"
      ],
      "metadata": {
        "id": "0eEqMoc3uQOn"
      }
    },
    {
      "cell_type": "markdown",
      "source": [
        "# Answer 5.\n",
        "# Step-by-Step Guide\n",
        "Import NumPy: Ensure NumPy is imported.\n",
        "\n",
        "Create the Array: Create a NumPy array of strings.\n",
        "\n",
        "Apply Case Transformations: Use NumPy's vectorized string operations to apply case transformations."
      ],
      "metadata": {
        "id": "UKNZM7Z7t53C"
      }
    },
    {
      "cell_type": "code",
      "source": [
        "import numpy as np\n",
        "\n",
        "# Create a NumPy array of strings\n",
        "arr = np.array(['python', 'numpy', 'pandas'])\n",
        "print(\"Original Array:\")\n",
        "print(arr)\n",
        "\n",
        "# Apply uppercase transformation\n",
        "uppercase_arr = np.char.upper(arr)\n",
        "print(\"\\nUppercase Transformation:\")\n",
        "print(uppercase_arr)\n",
        "\n",
        "# Apply lowercase transformation\n",
        "lowercase_arr = np.char.lower(arr)\n",
        "print(\"\\nLowercase Transformation:\")\n",
        "print(lowercase_arr)\n",
        "\n",
        "# Apply title case transformation\n",
        "titlecase_arr = np.char.title(arr)\n",
        "print(\"\\nTitle Case Transformation:\")\n",
        "print(titlecase_arr)\n",
        "\n",
        "# Apply capitalize transformation\n",
        "capitalize_arr = np.char.capitalize(arr)\n",
        "print(\"\\nCapitalize Transformation:\")\n",
        "print(capitalize_arr)\n"
      ],
      "metadata": {
        "colab": {
          "base_uri": "https://localhost:8080/"
        },
        "id": "7j5-VlOKt_EO",
        "outputId": "954a79ea-96d7-435b-cc63-b946191ae976"
      },
      "execution_count": 5,
      "outputs": [
        {
          "output_type": "stream",
          "name": "stdout",
          "text": [
            "Original Array:\n",
            "['python' 'numpy' 'pandas']\n",
            "\n",
            "Uppercase Transformation:\n",
            "['PYTHON' 'NUMPY' 'PANDAS']\n",
            "\n",
            "Lowercase Transformation:\n",
            "['python' 'numpy' 'pandas']\n",
            "\n",
            "Title Case Transformation:\n",
            "['Python' 'Numpy' 'Pandas']\n",
            "\n",
            "Capitalize Transformation:\n",
            "['Python' 'Numpy' 'Pandas']\n"
          ]
        }
      ]
    },
    {
      "cell_type": "markdown",
      "source": [
        "\n",
        "Original Array: ['python', 'numpy', 'pandas']\n",
        "\n",
        "**Uppercase Transformation:** Converts all characters to uppercase.\n",
        "\n",
        "**Lowercase Transformation:** Converts all characters to lowercase.\n",
        "\n",
        "**Title Case Transformation:** Capitalizes the first letter of each word.\n",
        "\n",
        "**Capitalize Transformation:** Capitalizes the first letter of the first word only."
      ],
      "metadata": {
        "id": "ovNQWIRyuE8O"
      }
    },
    {
      "cell_type": "markdown",
      "source": [
        "#Question 6.\n",
        "\n",
        "Generate a NumPy array of words. Insert a space between each character of every word in the array."
      ],
      "metadata": {
        "id": "xvnI7OKlubi5"
      }
    },
    {
      "cell_type": "markdown",
      "source": [
        "# Answer 6.\n",
        "\n",
        "# Step-by-Step\n",
        "Import NumPy: Ensure NumPy is imported.\n",
        "\n",
        "Create the Array: Create a NumPy array of words.\n",
        "\n",
        "Insert Spaces: Use NumPy's vectorized string operations to insert spaces."
      ],
      "metadata": {
        "id": "pY_u6ptku6dg"
      }
    },
    {
      "cell_type": "code",
      "source": [
        "import numpy as np\n",
        "\n",
        "# Create a NumPy array of words\n",
        "words = np.array(['hello', 'world', 'numpy'])\n",
        "print(\"Original Array:\")\n",
        "print(words)\n",
        "\n",
        "# Insert a space between each character of every word\n",
        "spaced_words = np.char.join(' ', words)\n",
        "print(\"\\nArray with Spaces Between Characters:\")\n",
        "print(spaced_words)\n"
      ],
      "metadata": {
        "colab": {
          "base_uri": "https://localhost:8080/"
        },
        "id": "ER9x8CI5uN9K",
        "outputId": "e3521041-85a5-4c62-946f-462a17a08fa2"
      },
      "execution_count": 6,
      "outputs": [
        {
          "output_type": "stream",
          "name": "stdout",
          "text": [
            "Original Array:\n",
            "['hello' 'world' 'numpy']\n",
            "\n",
            "Array with Spaces Between Characters:\n",
            "['h e l l o' 'w o r l d' 'n u m p y']\n"
          ]
        }
      ]
    },
    {
      "cell_type": "markdown",
      "source": [
        "**Original Array:** ['hello', 'world', 'numpy']\n",
        "\n",
        "**Inserting Spaces:** The np.char.join(' ', words) function inserts a space between each character in the words of the array.\n",
        "\n",
        "When you run this code, it will output the original array and the array with spaces inserted between each character of every word."
      ],
      "metadata": {
        "id": "YnSWD_Txu0V8"
      }
    },
    {
      "cell_type": "code",
      "source": [],
      "metadata": {
        "id": "-ncN1MB5uxEu"
      },
      "execution_count": null,
      "outputs": []
    },
    {
      "cell_type": "markdown",
      "source": [
        "#Question 7.\n",
        "\n",
        " Create two 2D NumPy arrays and perform element-wise addition, subtraction, multiplication, and division."
      ],
      "metadata": {
        "id": "ggHa5YUEwOUk"
      }
    },
    {
      "cell_type": "markdown",
      "source": [
        "# Step-by-Step\n",
        "Import NumPy: Ensure NumPy is imported.\n",
        "\n",
        "Create the Arrays: Create two 2D NumPy arrays.\n",
        "\n",
        "Perform Element-Wise Operations: Perform addition, subtraction, multiplication, and division."
      ],
      "metadata": {
        "id": "EtY7Cc91wWbB"
      }
    },
    {
      "cell_type": "code",
      "source": [
        "import numpy as np\n",
        "\n",
        "# Create two 2D NumPy arrays\n",
        "array1 = np.array([[1, 2, 3], [4, 5, 6]])\n",
        "array2 = np.array([[7, 8, 9], [10, 11, 12]])\n",
        "\n",
        "print(\"Array 1:\")\n",
        "print(array1)\n",
        "\n",
        "print(\"\\nArray 2:\")\n",
        "print(array2)\n",
        "\n",
        "# Element-wise addition\n",
        "addition = np.add(array1, array2)\n",
        "print(\"\\nElement-wise Addition:\")\n",
        "print(addition)\n",
        "\n",
        "# Element-wise subtraction\n",
        "subtraction = np.subtract(array1, array2)\n",
        "print(\"\\nElement-wise Subtraction:\")\n",
        "print(subtraction)\n",
        "\n",
        "# Element-wise multiplication\n",
        "multiplication = np.multiply(array1, array2)\n",
        "print(\"\\nElement-wise Multiplication:\")\n",
        "print(multiplication)\n",
        "\n",
        "# Element-wise division\n",
        "division = np.divide(array1, array2)\n",
        "print(\"\\nElement-wise Division:\")\n",
        "print(division)\n"
      ],
      "metadata": {
        "colab": {
          "base_uri": "https://localhost:8080/"
        },
        "id": "l-qC-S8RwPRN",
        "outputId": "a186dbc0-57d6-4a84-957f-8308da634f44"
      },
      "execution_count": 7,
      "outputs": [
        {
          "output_type": "stream",
          "name": "stdout",
          "text": [
            "Array 1:\n",
            "[[1 2 3]\n",
            " [4 5 6]]\n",
            "\n",
            "Array 2:\n",
            "[[ 7  8  9]\n",
            " [10 11 12]]\n",
            "\n",
            "Element-wise Addition:\n",
            "[[ 8 10 12]\n",
            " [14 16 18]]\n",
            "\n",
            "Element-wise Subtraction:\n",
            "[[-6 -6 -6]\n",
            " [-6 -6 -6]]\n",
            "\n",
            "Element-wise Multiplication:\n",
            "[[ 7 16 27]\n",
            " [40 55 72]]\n",
            "\n",
            "Element-wise Division:\n",
            "[[0.14285714 0.25       0.33333333]\n",
            " [0.4        0.45454545 0.5       ]]\n"
          ]
        }
      ]
    },
    {
      "cell_type": "markdown",
      "source": [
        "Array Creation: array1 and array2 are two 2D arrays with shape (2, 3).\n",
        "\n",
        "Element-Wise Operations:\n",
        "\n",
        "Addition: np.add(array1, array2) adds corresponding elements.\n",
        "\n",
        "Subtraction: np.subtract(array1, array2) subtracts corresponding elements.\n",
        "\n",
        "Multiplication: np.multiply(array1, array2) multiplies corresponding elements.\n",
        "\n",
        "Division: np.divide(array1, array2) divides corresponding elements."
      ],
      "metadata": {
        "id": "MKMdnYyGwhEJ"
      }
    },
    {
      "cell_type": "code",
      "source": [],
      "metadata": {
        "id": "AYrpRXsVweiV"
      },
      "execution_count": null,
      "outputs": []
    },
    {
      "cell_type": "markdown",
      "source": [
        "# Question 8.)\n",
        "Use NumPy to create a 5x5 identity matrix, then extract its diagonal elements.\n"
      ],
      "metadata": {
        "id": "xW8OnuqXwtl6"
      }
    },
    {
      "cell_type": "markdown",
      "source": [
        "#Answer. 8\n",
        "# Step-by-Step\n",
        "Import NumPy: Ensure NumPy is imported.\n",
        "\n",
        "Create the Identity Matrix: Use np.identity or np.eye to create the identity matrix.\n",
        "\n",
        "Extract Diagonal Elements: Use np.diag to extract the diagonal elements."
      ],
      "metadata": {
        "id": "aHHEzxSFwxLe"
      }
    },
    {
      "cell_type": "code",
      "source": [
        "import numpy as np\n",
        "\n",
        "# Create a 5x5 identity matrix\n",
        "identity_matrix = np.eye(5)\n",
        "print(\"5x5 Identity Matrix:\")\n",
        "print(identity_matrix)\n",
        "\n",
        "# Extract diagonal elements\n",
        "diagonal_elements = np.diag(identity_matrix)\n",
        "print(\"\\nDiagonal Elements:\")\n",
        "print(diagonal_elements)\n"
      ],
      "metadata": {
        "colab": {
          "base_uri": "https://localhost:8080/"
        },
        "id": "7LuhLJcQxCMg",
        "outputId": "22528496-3b05-4c7b-8840-77faad83b698"
      },
      "execution_count": 9,
      "outputs": [
        {
          "output_type": "stream",
          "name": "stdout",
          "text": [
            "5x5 Identity Matrix:\n",
            "[[1. 0. 0. 0. 0.]\n",
            " [0. 1. 0. 0. 0.]\n",
            " [0. 0. 1. 0. 0.]\n",
            " [0. 0. 0. 1. 0.]\n",
            " [0. 0. 0. 0. 1.]]\n",
            "\n",
            "Diagonal Elements:\n",
            "[1. 1. 1. 1. 1.]\n"
          ]
        }
      ]
    },
    {
      "cell_type": "markdown",
      "source": [
        "Creating the Identity Matrix:\n",
        "\n",
        "np.eye(5) creates a 5x5 identity matrix, where the diagonal elements are 1 and all other elements are 0.\n",
        "\n",
        "Extracting Diagonal Elements:\n",
        "\n",
        "np.diag(identity_matrix) extracts the diagonal elements of the matrix."
      ],
      "metadata": {
        "id": "FtVD9DFvxBPW"
      }
    },
    {
      "cell_type": "markdown",
      "source": [
        "#Question 9.\n",
        " Generate a NumPy array of 100 random integers between 0 and 1000. Find and display all prime numbers in this array."
      ],
      "metadata": {
        "id": "kb7KkPUUxK6a"
      }
    },
    {
      "cell_type": "markdown",
      "source": [
        "# Answer 9.\n",
        "# Step-by-Step\n",
        "Import NumPy: Ensure NumPy is imported.\n",
        "\n",
        "Generate the Array: Create a 1D NumPy array with 100 random integers.\n",
        "\n",
        "Prime Number Check: Define a function to check for prime numbers.\n",
        "\n",
        "Filter Prime Numbers: Apply the function to filter and display prime numbers."
      ],
      "metadata": {
        "id": "Z0LNn6OVxVkm"
      }
    },
    {
      "cell_type": "code",
      "source": [
        "import numpy as np\n",
        "\n",
        "# Generate a NumPy array of 100 random integers between 0 and 1000\n",
        "random_integers = np.random.randint(0, 1000, size=100)\n",
        "print(\"Array of Random Integers:\")\n",
        "print(random_integers)\n",
        "\n",
        "# Function to check if a number is prime\n",
        "def is_prime(n):\n",
        "    if n <= 1:\n",
        "        return False\n",
        "    for i in range(2, int(np.sqrt(n)) + 1):\n",
        "        if n % i == 0:\n",
        "            return False\n",
        "    return True\n",
        "\n",
        "# Find and display all prime numbers in the array\n",
        "prime_numbers = [num for num in random_integers if is_prime(num)]\n",
        "print(\"\\nPrime Numbers in the Array:\")\n",
        "print(prime_numbers)\n"
      ],
      "metadata": {
        "colab": {
          "base_uri": "https://localhost:8080/"
        },
        "id": "L5uZPpOYxBmf",
        "outputId": "3303defb-1d17-4cdb-c26c-7991db0e4ca3"
      },
      "execution_count": 10,
      "outputs": [
        {
          "output_type": "stream",
          "name": "stdout",
          "text": [
            "Array of Random Integers:\n",
            "[278 843  95 811  91 483 765 562 815 472 179 833 780 402 917 567 280 466\n",
            " 405 467 984 533 581 249 580 664  99 786 125 222 498 636 127 973 674 946\n",
            " 302 936 490 635 168 327 262  13 294 920 825 133 634 856 754 837 137 534\n",
            "   3 975 436 394 644 482 770 907 275 110 296 825 199 472 266 737  65 976\n",
            " 244 571 574  72 125 237 944 932  95 390 663 344 714 308  63 807 698 878\n",
            " 791 649 488 215 576 606 115 147 967 813]\n",
            "\n",
            "Prime Numbers in the Array:\n",
            "[811, 179, 467, 127, 13, 137, 3, 907, 199, 571, 967]\n"
          ]
        }
      ]
    },
    {
      "cell_type": "markdown",
      "source": [
        "Generate the Array: np.random.randint(0, 1000, size=100) generates an array of 100 random integers between 0 and 1000.\n",
        "\n",
        "Prime Number Check: The is_prime function checks if a number is prime.\n",
        "\n",
        "Filter Prime Numbers: A list comprehension filters out prime numbers from the array."
      ],
      "metadata": {
        "id": "CU42g6JOxU2M"
      }
    },
    {
      "cell_type": "markdown",
      "source": [
        "#Question 10.\n",
        "Create a NumPy array representing daily temperatures for a month. Calculate and display the weekly averages."
      ],
      "metadata": {
        "id": "GKqEAlEcwwTf"
      }
    },
    {
      "cell_type": "markdown",
      "source": [
        "# Answer 10\n",
        "#Step-by-Step\n",
        "Import NumPy: Ensure NumPy is imported.\n",
        "\n",
        "Create the Array: Create a NumPy array with 30 random temperatures.\n",
        "\n",
        "Reshape the Array: Reshape the array to have weeks as rows and days as columns.\n",
        "\n",
        "Calculate Weekly Averages: Use NumPy to calculate the average temperature for each week."
      ],
      "metadata": {
        "id": "nN11YX-xybIm"
      }
    },
    {
      "cell_type": "code",
      "source": [
        "import numpy as np\n",
        "\n",
        "# Create a NumPy array with random daily temperatures for a month (30 days)\n",
        "daily_temperatures = np.random.randint(15, 35, size=30)\n",
        "print(\"Daily Temperatures for a Month:\")\n",
        "print(daily_temperatures)\n",
        "\n",
        "# Reshape the array to have weeks as rows and days as columns (4 weeks, 7 days each)\n",
        "weekly_temperatures = daily_temperatures.reshape(5, 6)\n",
        "print(\"\\nWeekly Temperatures:\")\n",
        "print(weekly_temperatures)\n",
        "\n",
        "# Calculate and display the weekly averages\n",
        "weekly_averages = np.mean(weekly_temperatures, axis=1)\n",
        "print(\"\\nWeekly Averages:\")\n",
        "print(weekly_averages)\n"
      ],
      "metadata": {
        "colab": {
          "base_uri": "https://localhost:8080/"
        },
        "id": "tZRvR18DyWVz",
        "outputId": "97495458-6778-4d95-ff48-c80990b08f7f"
      },
      "execution_count": 13,
      "outputs": [
        {
          "output_type": "stream",
          "name": "stdout",
          "text": [
            "Daily Temperatures for a Month:\n",
            "[23 20 19 20 21 23 20 31 16 27 24 30 17 25 22 20 21 16 24 31 15 24 28 18\n",
            " 29 22 17 21 17 32]\n",
            "\n",
            "Weekly Temperatures:\n",
            "[[23 20 19 20 21 23]\n",
            " [20 31 16 27 24 30]\n",
            " [17 25 22 20 21 16]\n",
            " [24 31 15 24 28 18]\n",
            " [29 22 17 21 17 32]]\n",
            "\n",
            "Weekly Averages:\n",
            "[21.         24.66666667 20.16666667 23.33333333 23.        ]\n"
          ]
        }
      ]
    },
    {
      "cell_type": "markdown",
      "source": [
        "Creating the Array: np.random.randint(15, 35, size=30) generates an array with random integers between 15 and 35, representing daily temperatures for a month.\n",
        "\n",
        "Reshape the Array: daily_temperatures.reshape(4, 7) reshapes the array into 4 weeks with 7 days each.\n",
        "\n",
        "Calculate Weekly Averages: np.mean(weekly_temperatures, axis=1) calculates the average temperature for each week.\n"
      ],
      "metadata": {
        "id": "8IXYWXkey42r"
      }
    },
    {
      "cell_type": "code",
      "source": [],
      "metadata": {
        "id": "GqbpOGwEy6ac"
      },
      "execution_count": null,
      "outputs": []
    }
  ]
}